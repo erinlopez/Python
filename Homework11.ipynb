{
 "cells": [
  {
   "cell_type": "markdown",
   "metadata": {},
   "source": [
    "# Homework 11\n",
    "## Nov 2021\n",
    "\n",
    "## Fill in your name"
   ]
  },
  {
   "cell_type": "code",
   "execution_count": 156,
   "metadata": {},
   "outputs": [],
   "source": [
    "first_name = \"Erin\"\n",
    "last_name = \"Lopez\"\n",
    "\n",
    "assert(len(first_name) != 0)\n",
    "assert(len(last_name)  != 0)"
   ]
  },
  {
   "cell_type": "markdown",
   "metadata": {},
   "source": [
    "# Regular Expressions (RE or regexp)\n",
    "\n",
    "RE is a powerful language that lets you specify patterns.  We will use REs to search and to validate in this assignment.  \n",
    "\n",
    "You'll find two videos on REs in Modules/Video Links/Libraries\n",
    "\n",
    "\n",
    "# 1) Four or more\n",
    "\n",
    "You goal is to find the words in Downey's words.txt that have 4 consecutive vowels.  (That is, four vowels in a row)\n",
    "\n",
    "Write a Regular Expression that matches 4 vowels in a row, and use it to search the word list."
   ]
  },
  {
   "cell_type": "code",
   "execution_count": 157,
   "metadata": {},
   "outputs": [
    {
     "name": "stdout",
     "output_type": "stream",
     "text": [
      "False\n",
      "True\n"
     ]
    }
   ],
   "source": [
    "import re\n",
    "\n",
    "def four_or_more(phrase: str) -> bool:\n",
    "    \"\"\"Does this string have 4 vowels in a row?\"\"\"\n",
    "    pattern = r'[aeiou]{4,}'\n",
    "    v = re.search(pattern, phrase)\n",
    "    if v:\n",
    "        return True\n",
    "    else:\n",
    "        return False\n",
    "    \n",
    "\n",
    "print(four_or_more('Are there 4 vowels?')) #False\n",
    "print(four_or_more('Are there 4 voooowels?')) #True"
   ]
  },
  {
   "cell_type": "markdown",
   "metadata": {},
   "source": [
    "## Unit tests for four_or_more\n",
    "\n",
    "Write a function that uses your RE to search Downey's words.txt.\n",
    "\n",
    "Print all the matches you find."
   ]
  },
  {
   "cell_type": "code",
   "execution_count": 158,
   "metadata": {},
   "outputs": [
    {
     "name": "stdout",
     "output_type": "stream",
     "text": [
      "['aqueous', 'beauish', 'cliqueier', 'cliqueiest', 'cooee', 'cooeed', 'cooeeing', 'cooees', 'epopoeia', 'epopoeias', 'giaour', 'giaours', 'gooier', 'gooiest', 'guaiac', 'guaiacol', 'guaiacols', 'guaiacs', 'guaiacum', 'guaiacums', 'guaiocum', 'guaiocums', 'looie', 'looies', 'louie', 'louies', 'maieutic', 'miaou', 'miaoued', 'miaouing', 'miaous', 'obsequious', 'obsequiously', 'obsequiousness', 'obsequiousnesses', 'onomatopoeia', 'plateaued', 'plateauing', 'queue', 'queued', 'queueing', 'queuer', 'queuers', 'queues', 'queuing', 'sequoia', 'sequoias', 'zoeae', 'zoogloeae']\n"
     ]
    }
   ],
   "source": [
    "##\n",
    "def test_four_or_more(filename):\n",
    "    lst = []\n",
    "    file = open(filepath, 'r')\n",
    "    for line in file:\n",
    "        word = line.strip()\n",
    "        if four_or_more(word) == True:\n",
    "            lst.append(word)\n",
    "    print(lst)\n",
    "    \n",
    "filepath = 'words.txt'\n",
    "test_four_or_more(filepath)"
   ]
  },
  {
   "cell_type": "markdown",
   "metadata": {},
   "source": [
    "# 2) Valid Integers\n",
    "\n",
    "Write a RE that decides if a string holds a valid integer.  "
   ]
  },
  {
   "cell_type": "code",
   "execution_count": 159,
   "metadata": {},
   "outputs": [],
   "source": [
    "def is_integer(s: str) -> bool:\n",
    "    \"\"\"Is this string a valid integer?\"\"\"\n",
    "    #starts with optional +-, followed by 1+ digits, then ends\n",
    "    #$ filters out strings with letters mixed in\n",
    "    i = re.search(r'^[+-]?\\d+$', s)\n",
    "    if i:\n",
    "        return True\n",
    "    else:\n",
    "        return False\n"
   ]
  },
  {
   "cell_type": "markdown",
   "metadata": {},
   "source": [
    "## Unit Tests"
   ]
  },
  {
   "cell_type": "code",
   "execution_count": 160,
   "metadata": {},
   "outputs": [
    {
     "name": "stdout",
     "output_type": "stream",
     "text": [
      "Success!!\n"
     ]
    }
   ],
   "source": [
    "def test_is_integer():\n",
    "    assert is_integer(\"5\")\n",
    "    assert not is_integer(\"a5\")\n",
    "    assert not is_integer(\"5a\")\n",
    "    assert is_integer(\"5000\")\n",
    "    assert is_integer(\"-999\")\n",
    "    assert is_integer(\"+999\")\n",
    "    assert is_integer(\"00\")\n",
    "    assert not is_integer(\"0.0\")\n",
    "    assert not is_integer(\"-\")\n",
    "    assert not is_integer(\" 5\")\n",
    "    assert not is_integer(\"\")\n",
    "    \n",
    "    print('Success!!')\n",
    "    \n",
    "test_is_integer()"
   ]
  },
  {
   "cell_type": "markdown",
   "metadata": {},
   "source": [
    "# 3) Graph Global Mile records\n",
    "\n",
    "Produce a version of the chart shown in the Canvas Assignment page\n",
    "\n",
    "Take a look at the data here: you can harvest it from the web, or use a CSV file we'll provide.  \n",
    "\n",
    "https://github.com/KarenWest/FundamentalsOfDataAnalysisInLanguageR/blob/master/WorldRecords.csv\n",
    "\n",
    "We haven't discussed many of the points below: you will need to explore the documentation on your own. \n",
    "\n",
    "https://matplotlib.org/3.2.1/contents.html\n",
    "    \n",
    "The CSV file has many records. \n",
    "Plot the world records for the mile.  Let X be the year and Y be the time in seconds.  \n",
    "\n",
    "Map the Mens and Womens records on the same graph in different colors.\n",
    "\n",
    "Since records for men and women were set in different years, you won't be able to use plot().  Use a scatter plot instead.\n",
    "\n",
    "Make sure your X and Y values are numbers, rather than the strings in the table.  \n",
    "Include labels for the X and Y axis, and a legend telling us what the colors mean.\n",
    "\n",
    "Include a horizontal line at y = 240: the 4 minute barrier has been a touchstone and a benchmark for years.    \n",
    "\n",
    "You will want the Y axis to include 0 so that we can judge the times relative to the time it takes to run a mile, but you don't want to include the origin: you don't want to go back to 0 AD.  We don't have good records until the 20th century.  \n",
    "\n",
    "### Hint: here are some matplotlib calls to investigate\n",
    "\n",
    "```python\n",
    "    plt.scatter()     # Be sure to investigate the optional parameters\n",
    "    plt.legend()\n",
    "    plt.xlabel()\n",
    "    plt.ylabel()\n",
    "    plt.ylim()\n",
    "```"
   ]
  },
  {
   "cell_type": "markdown",
   "metadata": {},
   "source": [
    "## Your Solution"
   ]
  },
  {
   "cell_type": "code",
   "execution_count": 161,
   "metadata": {},
   "outputs": [
    {
     "data": {
      "image/png": "[encoded data removed]",
      "text/plain": [
       "<Figure size 432x288 with 1 Axes>"
      ]
     },
     "metadata": {
      "needs_background": "light"
     },
     "output_type": "display_data"
    }
   ],
   "source": [
    "import matplotlib.pyplot as plt\n",
    "import pandas as pd\n",
    "\n",
    "#plot mile world records, x=year y=time(s)\n",
    "#Event col: mens/womens mile\n",
    "#Record col: time(s)\n",
    "#Year col: year\n",
    "\n",
    "#read csv file into dataframe\n",
    "records = pd.read_csv('WorldRecords.csv')\n",
    "records = records[['Event', 'Record', 'Year']]\n",
    "\n",
    "#separate mens and womens\n",
    "mens = records[records['Event'] == 'Mens Mile']\n",
    "womens = records[records['Event'] == 'Womens Mile']\n",
    "\n",
    "#separate x and y \n",
    "xmen = mens['Year']\n",
    "ymen = mens['Record']\n",
    "\n",
    "xwomen = womens['Year']\n",
    "ywomen = womens['Record']\n",
    "\n",
    "plt.scatter(xmen, ymen, c='Red', label='Men')\n",
    "plt.scatter(xwomen, ywomen, c='Blue', label='Women')\n",
    "\n",
    "plt.axhline(y=240, c='Green', label='4 minute')\n",
    "\n",
    "plt.ylim([0, 300]) #y axis range\n",
    "\n",
    "plt.legend()\n",
    "\n",
    "plt.xlabel('Year')\n",
    "plt.ylabel('Time to run a mile in seconds')\n",
    "\n",
    "plt.title('Mile Records by Year')\n",
    "\n",
    "plt.show()"
   ]
  },
  {
   "cell_type": "markdown",
   "metadata": {},
   "source": [
    "# 4) People\n",
    "\n",
    "We define a class Person which describes a citizen with a name.\n",
    "Students and Employees are subclasses of Persons.\n",
    "\n",
    "You will need to define or redefine methods for the three classes below to make the unit tests pass.\n",
    "\n",
    "We have made a start defining a Student, but have done nothing for Employee.  Run the Unit Tests to see what you will need to add or change.  \n",
    "\n",
    "Hint: You may make changes in all three classes"
   ]
  },
  {
   "cell_type": "code",
   "execution_count": 162,
   "metadata": {},
   "outputs": [],
   "source": [
    "class Person:\n",
    "\n",
    "    def __init__(self, first, last):\n",
    "        self.firstname = first\n",
    "        self.lastname = last\n",
    "\n",
    "    def __str__(self):\n",
    "        return self.firstname.capitalize() + \" \" + self.lastname.capitalize()\n",
    "\n",
    "    def __eq__(self, other):\n",
    "        \n",
    "        return (self.firstname.lower() == other.firstname.lower()) \\\n",
    "            and (self.lastname.lower() == other.lastname.lower())\n",
    "\n",
    "    def is_employed(self):\n",
    "        return False\n",
    "\n",
    "\n",
    "class Student(Person):\n",
    "    \"Person who is a student\"\n",
    "\n",
    "    def __init__(self, first, last, school, id):\n",
    "        # Call Superclass to set common information\n",
    "        super().__init__(first, last)\n",
    "        self.school = school\n",
    "        self.id = id\n",
    "\n",
    "    def __str__(self):\n",
    "        # Call Superclass to display common information\n",
    "        return super().__str__() + \", \" + str(self.id) + ' at ' + self.school\n",
    "\n",
    "    def __eq__(self, other):\n",
    "        try:\n",
    "            return super().__eq__(other) and (self.id == other.id) and (self.school.lower() == other.school.lower())\n",
    "        except AttributeError: #when comparing student & employee (not equal)\n",
    "            return False\n",
    "    \n",
    "class Employee(Person):\n",
    "    \"Person who is employed\"\n",
    "    def __init__(self, first, last, company, id):\n",
    "        super().__init__(first, last)\n",
    "        self.company = company\n",
    "        self.id = id\n",
    "    \n",
    "    def __str__(self):\n",
    "        return super().__str__() + \", \" + str(self.id) + ' at ' + self.company\n",
    "    \n",
    "    def __eq__(self, other):\n",
    "        try:\n",
    "            return super().__eq__(other) and (self.id == other.id) and (self.company.lower() == other.company.lower())\n",
    "        except AttributeError:\n",
    "            return False\n"
   ]
  },
  {
   "cell_type": "markdown",
   "metadata": {},
   "source": [
    "## Unit Tests for Person"
   ]
  },
  {
   "cell_type": "code",
   "execution_count": 163,
   "metadata": {},
   "outputs": [
    {
     "name": "stdout",
     "output_type": "stream",
     "text": [
      "Success!\n"
     ]
    }
   ],
   "source": [
    "def test_person():\n",
    "    \n",
    "    # People\n",
    "    man1 = Person(\"Homer\", \"Simpson\")\n",
    "    man2 = Person(\"homer\", \"simpson\")\n",
    "    assert man1 == man2\n",
    "    assert not man1.is_employed()\n",
    "    assert man1.__str__() == 'Homer Simpson'\n",
    "    assert man2.__str__() == 'Homer Simpson'\n",
    "    \n",
    "    # Students\n",
    "    woman1 = Student(\"Marge\", \"Simpson\", 'Simmons', 107)\n",
    "    woman2 = Student(\"Marge\", \"Simpson\", 'Wheelock', 153)\n",
    "    assert woman1.__str__() == \"Marge Simpson, 107 at Simmons\"\n",
    "    assert woman2.__str__() == \"Marge Simpson, 153 at Wheelock\"\n",
    "    assert not woman1 == woman2\n",
    "\n",
    "    # Employees\n",
    "    moe1 = Employee(\"Moe\", \"Szyslak\", 'Tavern', 153)\n",
    "    assert moe1.__str__() == \"Moe Szyslak, 153 at Tavern\"\n",
    "    assert not moe1 == woman2\n",
    "\n",
    "    moe = Employee(\"Moe\", \"Szyslak\", 'Tavern', 153)\n",
    "    assert moe.__str__() == \"Moe Szyslak, 153 at Tavern\"\n",
    "    assert not moe == woman2\n",
    "\n",
    "    waylon = Employee(\"Waylon\", \"Smithers\", \"Springfield Power\", 2)\n",
    "    assert not moe == waylon\n",
    "   \n",
    "    # Cross Check\n",
    "    moe2 = Student(\"Moe\", \"Szyslak\", 'BC', 153)\n",
    "    assert moe2.__str__() == \"Moe Szyslak, 153 at BC\"\n",
    "    assert not moe == moe2\n",
    "    assert not moe2 == moe\n",
    "\n",
    "    print('Success!')\n",
    "    \n",
    "test_person()"
   ]
  },
  {
   "cell_type": "markdown",
   "metadata": {},
   "source": [
    "## Post Mortem\n",
    "\n",
    "How long did it take you to solve this problem set?\n",
    "\n",
    "Did anything confuse you or cause difficulty?"
   ]
  },
  {
   "cell_type": "code",
   "execution_count": 164,
   "metadata": {},
   "outputs": [],
   "source": [
    "# Your thoughts\n",
    "#I was confused on #1 about whether I was supposed to show the list of words in the first function, or just return the bool and use the words in the unit test"
   ]
  },
  {
   "cell_type": "code",
   "execution_count": null,
   "metadata": {},
   "outputs": [],
   "source": []
  }
 ],
 "metadata": {
  "kernelspec": {
   "display_name": "Python 3",
   "language": "python",
   "name": "python3"
  },
  "language_info": {
   "codemirror_mode": {
    "name": "ipython",
    "version": 3
   },
   "file_extension": ".py",
   "mimetype": "text/x-python",
   "name": "python",
   "nbconvert_exporter": "python",
   "pygments_lexer": "ipython3",
   "version": "3.8.8"
  }
 },
 "nbformat": 4,
 "nbformat_minor": 1
}
