{
 "cells": [
  {
   "cell_type": "markdown",
   "metadata": {},
   "source": [
    "# CSCI E 7 Homework 10\n",
    "\n",
    "## 2021"
   ]
  },
  {
   "cell_type": "markdown",
   "metadata": {},
   "source": [
    "## Fill in your name"
   ]
  },
  {
   "cell_type": "code",
   "execution_count": 1,
   "metadata": {},
   "outputs": [
    {
     "name": "stdout",
     "output_type": "stream",
     "text": [
      "Erin Lopez\n"
     ]
    }
   ],
   "source": [
    "first_name = \"Erin\"\n",
    "last_name = \"Lopez\"\n",
    "\n",
    "assert(len(first_name) != 0)\n",
    "assert(len(last_name)  != 0)\n",
    "print(first_name, last_name)"
   ]
  },
  {
   "cell_type": "markdown",
   "metadata": {},
   "source": [
    "# Problem 1: Subslice\n",
    "\n",
    "List A is a subslice of list B if you can find x and y such that\n",
    "```python\n",
    "A = B[x:y]\n",
    "```\n",
    "Write a function that decides if A is a subslice of B"
   ]
  },
  {
   "cell_type": "code",
   "execution_count": 2,
   "metadata": {},
   "outputs": [],
   "source": [
    "def is_subslice(a, b):\n",
    "    \"\"\"Is A a slice from B?\"\"\"\n",
    "    if a == []:\n",
    "        return True\n",
    "    else:\n",
    "        l = [i for i, x in enumerate(b) if x == a[0]] #create list of indices in b that match a[0]\n",
    "        for x in l: #for each instance in b that matches a[0]\n",
    "            lst = []\n",
    "            try:\n",
    "                for i in a:\n",
    "                    lst.append(i == b[x]) #list of whether each item in a matches slice of b\n",
    "                    x+=1\n",
    "            except IndexError: #catches error if len(a) > whats left in b\n",
    "                return False\n",
    "            \n",
    "            if all(lst) == True: #check if any lst is all true -> A is a subslice of B\n",
    "                    return True\n",
    "\n",
    "        "
   ]
  },
  {
   "cell_type": "markdown",
   "metadata": {},
   "source": [
    "### Unit Tests"
   ]
  },
  {
   "cell_type": "code",
   "execution_count": 3,
   "metadata": {},
   "outputs": [
    {
     "name": "stdout",
     "output_type": "stream",
     "text": [
      "Success!\n"
     ]
    }
   ],
   "source": [
    "def test_subslice():\n",
    "    assert(is_subslice([], []))\n",
    "    assert(is_subslice([], [1, 2, 3, 4, 5]))\n",
    "    assert(is_subslice([1, 2, 3], [1, 2, 3, 4, 5]))\n",
    "    assert(is_subslice([3, 4, 5], [1, 2, 3, 4, 5]))\n",
    "    assert(is_subslice([3, 4, 5], [1, 2, 3, 4, 5]))\n",
    "    assert(is_subslice([3, 4, 5], [1, 2, 3, 4, 5]))\n",
    "    assert(is_subslice([5, 3, 4], [5, 1, 2, 5, 3, 4, 5, 3, 2, 1]))\n",
    "    assert(is_subslice([], [1, 2, 3, 4, 5]))\n",
    "    assert(is_subslice([3, 4], [1, 2, 3, 4, 5]))\n",
    "    assert(is_subslice([1, 2, 3], [1, 2, 3]))\n",
    "    assert(is_subslice([1, 2, 3], [1, 2, 1, 2, 3, 4, 5])) # If at first you don't succeed\n",
    "    assert(not is_subslice([1, 2], [12]))\n",
    "    assert(not is_subslice([1, 2], [2, 1]))\n",
    "    assert(not is_subslice([1, 2, 3, 4, 5], [2, 3, 4]))\n",
    "    assert(not is_subslice([1, 3, 5], [1, 2, 3, 4, 5])) # This is a subset, but isn't a subslice\n",
    "    \n",
    "    print('Success!')\n",
    "    \n",
    "test_subslice()"
   ]
  },
  {
   "cell_type": "markdown",
   "metadata": {},
   "source": [
    "# Problem 2: Word Lengths\n",
    "We are interested in the distribution of word lengths in English words.  We will use our file words.txt.  \n",
    "\n",
    "Write a function wordLengths() that takes a path to a list of words and returns a list with tuples holding the number of words of each word length.\n",
    "\n",
    "Sort your list by length of word.\n",
    "\n",
    "Here are my partial results: words.txt holds 85 words of length 2, 908 words of length 3, and 3 words of length 21.\n",
    "```python\n",
    "    [(2, 85), (3, 908), ... (21, 3)]\n",
    "```"
   ]
  },
  {
   "cell_type": "code",
   "execution_count": 4,
   "metadata": {},
   "outputs": [],
   "source": [
    "def wordLengths(filepath):\n",
    "    \"\"\"Return sorted list of the number of words of each length\"\"\"\n",
    "    words = open(filepath, 'r')\n",
    "    \n",
    "    \n",
    "    lengths = []\n",
    "    counts = []\n",
    "    lst = []\n",
    "    for w in words: #length of each word\n",
    "        w = w.strip()\n",
    "        lengths.append(len(w))\n",
    "        \n",
    "    for l in lengths: #count of each length\n",
    "        counts.append(lengths.count(l))\n",
    "    \n",
    "    lst = list(zip(lengths, counts)) #match lengths & counts\n",
    "\n",
    "    wordlengths = []\n",
    "    for n in lst:\n",
    "        if n not in wordlengths:\n",
    "            wordlengths.append(n)\n",
    "    wordlengths.sort()\n",
    "    return wordlengths\n"
   ]
  },
  {
   "cell_type": "markdown",
   "metadata": {},
   "source": [
    "### Unit Tests"
   ]
  },
  {
   "cell_type": "code",
   "execution_count": 5,
   "metadata": {},
   "outputs": [
    {
     "name": "stdout",
     "output_type": "stream",
     "text": [
      "[(2, 85), (3, 908), (4, 3686), (5, 8258), (6, 14374), (7, 21727), (8, 26447), (9, 16658), (10, 9199), (11, 5296), (12, 3166), (13, 1960), (14, 1023), (15, 557), (16, 261), (17, 132), (18, 48), (19, 16), (20, 5), (21, 3)]\n",
      "(2, 85)\n",
      "\n",
      "Success!\n"
     ]
    }
   ],
   "source": [
    "## Change this to point to your copy of words.txt\n",
    "filepath = 'words.txt'\n",
    "\n",
    "def test_wordLengths(filepath):\n",
    "    lst = wordLengths(filepath)\n",
    "    print(lst)\n",
    "    \n",
    "    print(lst[0])\n",
    "    assert lst[0] == (2, 85)\n",
    "    assert lst[1] == (3, 908)\n",
    "    assert lst[5] == (7, 21727)\n",
    "    assert lst[-1] == (21, 3)\n",
    "    \n",
    "    print('\\nSuccess!')\n",
    "\n",
    "test_wordLengths(filepath)"
   ]
  },
  {
   "cell_type": "markdown",
   "metadata": {},
   "source": [
    "# Problem 3: Draw a bar chart of the word lengths\n",
    "\n",
    "Use matplotlib to draw a bar chart of the word lengths.  You may want to peek at the documentation\n",
    "\n",
    "https://matplotlib.org/3.3.1/gallery/pyplots/pyplot_text.html#sphx-glr-gallery-pyplots-pyplot-text-py\n",
    "\n",
    "or at this tutorial\n",
    "\n",
    "https://datatofish.com/bar-chart-python-matplotlib/\n",
    "\n",
    "You may want to start with the vidoes I posted in Modules/Video Links/Libraries\n",
    "\n",
    "Your bar chart should lineup with your results from problem 1."
   ]
  },
  {
   "cell_type": "code",
   "execution_count": 6,
   "metadata": {},
   "outputs": [],
   "source": [
    "def plot_bar_chart(filepath):\n",
    "    \"\"\"Plot a histogram of word lengths\"\"\"\n",
    "    import matplotlib.pyplot as plt\n",
    "    lst = wordLengths(filepath)\n",
    "    #lst = [(2, 85), (3, 908), (4, 3686), (5, 8258), (6, 14374), (7, 21727), (8, 26447), (9, 16658), (10, 9199), (11, 5296), (12, 3166), (13, 1960), (14, 1023), (15, 557), (16, 261), (17, 132), (18, 48), (19, 16), (20, 5), (21, 3)]\n",
    "    xaxis = []\n",
    "    yaxis = []\n",
    "    \n",
    "    for (x, y) in lst: #separate list into x and y data points\n",
    "        xaxis.append(x)\n",
    "        yaxis.append(y)\n",
    "        \n",
    "    plt.bar(xaxis, yaxis)\n",
    "    \n",
    "    plt.title('Word Length Frequencies', fontsize=14)\n",
    "    plt.xlabel('Word Length', fontsize=12)\n",
    "    plt.ylabel('Frequency', fontsize=12)\n",
    "\n",
    "    \n",
    "    plt.show()"
   ]
  },
  {
   "cell_type": "markdown",
   "metadata": {},
   "source": [
    "### Unit Test"
   ]
  },
  {
   "cell_type": "code",
   "execution_count": 7,
   "metadata": {},
   "outputs": [
    {
     "data": {
      "image/png": "[encoded data removed]",
      "text/plain": [
       "<Figure size 432x288 with 1 Axes>"
      ]
     },
     "metadata": {
      "needs_background": "light"
     },
     "output_type": "display_data"
    }
   ],
   "source": [
    "## Use the variable filepath defined above\n",
    "\n",
    "plot_bar_chart(filepath)"
   ]
  },
  {
   "cell_type": "markdown",
   "metadata": {},
   "source": [
    "# Problem 4: Count Pairs\n",
    "\n",
    "Write a program to count the frequency of each pair of letters in a Fasta file holding a DNA sequence.\n",
    "\n",
    "Fasta files have a one line header describing the source, and a sequence of lines with information.  \n",
    "They are used to hold DNA or Amino Acid sequences.  \n",
    "\n",
    "For example, the file pACYC184.fasta holds a DNA sequence of length 4245, which starts as\n",
    "\n",
    "```python\n",
    "GAATTCCGG...\n",
    "```\n",
    "\n",
    "That holds the pairs GA, AA, AT, TT, TC, CC, CG, GG, ...\n",
    "\n",
    "You could store your data in a 2D array, a list of 4 lists of length 4, \n",
    "or you could store your data in a Dictionary mapping strings of length 2 to integers.    \n",
    "\n",
    "Count the frequency of each pair, and print a chart.  For pACYC184.fasta, the chart should look like this:\n",
    "\n",
    "```python\n",
    "        A       G       C       T \n",
    "A     251     212     231     262 \n",
    "G     229     287     361     216 \n",
    "C     288     312     291     276 \n",
    "T     188     282     284     274 \n",
    "```\n",
    "The function print_pair_count() has 'print' in the title, so you may print from the function.\n",
    "\n",
    "I suggest having functions to read the data, count the pairs, and print the chart.  "
   ]
  },
  {
   "cell_type": "code",
   "execution_count": 8,
   "metadata": {},
   "outputs": [],
   "source": [
    "def print_pair_count(filename):\n",
    "    \"\"\"Print a chart showing frequency of base pairs in Fasta file\"\"\"\n",
    "    import numpy as np\n",
    "    \n",
    "    #read data\n",
    "    file = open(filename, 'r')\n",
    "    title = file.readline()\n",
    "    seq = file.read().replace('\\n', '')\n",
    "    file.close()\n",
    "    \n",
    "    #find pairs\n",
    "    pairs = []\n",
    "    for n in range(len(seq)-1):\n",
    "        pair = seq[n] + seq[n+1]\n",
    "        pairs.append(pair)\n",
    "    \n",
    "    #count pairs\n",
    "    arow = ['A', pairs.count('AA'), pairs.count('AG'), pairs.count('AC'), pairs.count('AT')]\n",
    "    grow = ['G', pairs.count('GA'), pairs.count('GG'), pairs.count('GC'), pairs.count('GT')]\n",
    "    crow = ['C', pairs.count('CA'), pairs.count('CG'), pairs.count('CC'), pairs.count('CT')]\n",
    "    trow = ['T', pairs.count('TA'), pairs.count('TG'), pairs.count('TC'), pairs.count('TT')]\n",
    "    header = [' ', 'A', 'G', 'C', 'T']\n",
    "    chart = np.array([header, arow, grow, crow, trow])\n",
    "    \n",
    "    #print formatting\n",
    "    #find element with most digits and line chart up with spaces\n",
    "    diglst = []\n",
    "    for row in chart:\n",
    "        for a in row:\n",
    "            diglst.append(len(str(a)))\n",
    "    \n",
    "    digits = max(diglst)\n",
    "    space = ' '*digits\n",
    "    \n",
    "    for row in chart:\n",
    "        for a in row:\n",
    "            if a == row[0]:\n",
    "                print(a+'  ', end=' ')\n",
    "            else:\n",
    "                print(space[len(str(a)):]+a, end=' ')\n",
    "        print()\n",
    "        \n",
    "    print(f'Sequence length: {len(seq)} nucleotides')\n"
   ]
  },
  {
   "cell_type": "markdown",
   "metadata": {},
   "source": [
    "### Unit Tests\n",
    "\n",
    "You will need to have copies of the three datasets in your directory.  \n",
    "\n",
    "Be sure to check the lengths of your strings: you don't want the newlines from the file included in your strings."
   ]
  },
  {
   "cell_type": "markdown",
   "metadata": {},
   "source": [
    "## Run your program on the datasets below"
   ]
  },
  {
   "cell_type": "code",
   "execution_count": 9,
   "metadata": {},
   "outputs": [
    {
     "name": "stdout",
     "output_type": "stream",
     "text": [
      "      A   G   C   T \n",
      "A   859 623 560 629 \n",
      "G   626 582 627 557 \n",
      "C   639 550 565 599 \n",
      "T   546 638 601 786 \n",
      "Sequence length: 9988 nucleotides\n"
     ]
    }
   ],
   "source": [
    "print_pair_count('pKLMF-FX.fasta')  # string of length 9988"
   ]
  },
  {
   "cell_type": "code",
   "execution_count": 10,
   "metadata": {},
   "outputs": [
    {
     "name": "stdout",
     "output_type": "stream",
     "text": [
      "         A      G      C      T \n",
      "A   338006 238013 256773 309950 \n",
      "G   267384 270252 384102 255699 \n",
      "C   325327 346793 271821 236149 \n",
      "T   212024 322379 267395 339584 \n",
      "Sequence length: 4641652 nucleotides\n"
     ]
    }
   ],
   "source": [
    "print_pair_count('ecoli.fasta')     # string of length 4641652"
   ]
  },
  {
   "cell_type": "code",
   "execution_count": 11,
   "metadata": {},
   "outputs": [
    {
     "name": "stdout",
     "output_type": "stream",
     "text": [
      "          A       G       C       T \n",
      "A   2364973 2360439 1594610 1797885 \n",
      "G   1906206 2238900 1784420 1590558 \n",
      "C   2414606  513594 2237613 2358130 \n",
      "T   1432121 2407152 1907300 2355793 \n",
      "Sequence length: 31264301 nucleotides\n"
     ]
    }
   ],
   "source": [
    "print_pair_count('Human22.fasta')   # string of length 31264301"
   ]
  },
  {
   "cell_type": "markdown",
   "metadata": {},
   "source": [
    "Does anything seem odd in the last table?"
   ]
  },
  {
   "cell_type": "markdown",
   "metadata": {},
   "source": [
    "# Problem 5: The Extension School\n",
    "Use Beautiful Soup to examine the base landing page https://www.extension.harvard.edu\n",
    "\n",
    "How many links are there?\n",
    "\n",
    "Links may be relatve or absolute:\n",
    "    /academics/programs/academic-gap-year/ is a relative link: you get an absolute link by adding the base\n",
    "            \n",
    "    https://www.extension.harvard.edu/academics/programs/academic-gap-year/\n",
    "    \n",
    "How many links are relative?  How many are relative, and how many are absolute?\n",
    "\n",
    "(Why would a relative path be useful?)\n",
    "\n",
    "How many links appear twice?\n",
    "\n",
    "Which links appear three times?  "
   ]
  },
  {
   "cell_type": "markdown",
   "metadata": {},
   "source": [
    "## Find all the links"
   ]
  },
  {
   "cell_type": "code",
   "execution_count": 12,
   "metadata": {
    "scrolled": false
   },
   "outputs": [
    {
     "name": "stdout",
     "output_type": "stream",
     "text": [
      "#content\n",
      "/about/news-press/covid-19-updates/\n",
      "https://extension.harvard.edu\n",
      "https://extension.harvard.edu/academics/\n",
      "/academics/programs/take-a-course/\n",
      "https://extension.harvard.edu/academics/academics-graduate-degrees/\n",
      "https://extension.harvard.edu/academics/graduate-certificates/\n",
      "https://extension.harvard.edu/academics/undergraduate-degree-and-certificates/\n",
      "https://extension.harvard.edu/academics/programs/premedical-program/\n",
      "/academics/programs/academic-gap-year/\n",
      "https://extension.harvard.edu/registration-admissions/\n",
      "https://extension.harvard.edu/registration-admissions/course-registration/\n",
      "https://extension.harvard.edu/registration-admissions/degree-program-admissions/\n",
      "https://extension.harvard.edu/registration-admissions/pursuing-a-certificate/\n",
      "https://extension.harvard.edu/for-students/\n",
      "/academics/programs/premedical-program/applying-to-premedical-program/\n",
      "/registration-admissions/academic-calendar/\n",
      "https://extension.harvard.edu/paying-for-school/\n",
      "https://extension.harvard.edu/paying-for-school/payment-options-policies/\n",
      "https://extension.harvard.edu/paying-for-school/financial-aid/\n",
      "https://extension.harvard.edu/paying-for-school/financial-wellness/\n",
      "https://extension.harvard.edu/about/\n",
      "https://extension.harvard.edu/about/student-stories/\n",
      "https://extension.harvard.edu/about/meet-the-dean/\n",
      "https://extension.harvard.edu/about/online-learning/\n",
      "https://extension.harvard.edu/about/why-harvard-extension-school/\n",
      "https://extension.harvard.edu/blog/\n",
      "https://extension.harvard.edu/events/\n",
      "https://extension.harvard.edu/about/news-press/\n",
      "https://extension.harvard.edu/login/\n",
      "/request-information/\n",
      "https://extension.harvard.edu/search/\n",
      "https://extension.harvard.edu\n",
      "https://extension.harvard.edu/search/\n",
      "https://extension.harvard.edu/academics/\n",
      "/academics/programs/take-a-course/\n",
      "https://extension.harvard.edu/academics/graduate-certificates/\n",
      "https://extension.harvard.edu/academics/academics-graduate-degrees/\n",
      "https://extension.harvard.edu/academics/undergraduate-degree-and-certificates/\n",
      "https://extension.harvard.edu/academics/programs/premedical-program/\n",
      "https://courses.dce.harvard.edu/extension\n",
      "https://extension.harvard.edu/registration-admissions/\n",
      "https://extension.harvard.edu/registration-admissions/course-registration/\n",
      "https://extension.harvard.edu/registration-admissions/degree-program-admissions/\n",
      "https://extension.harvard.edu/registration-admissions/pursuing-a-certificate/\n",
      "https://extension.harvard.edu/for-students/\n",
      "https://extension.harvard.edu/registration-admissions/international-student-registration-admissions/\n",
      "/registration-admissions/academic-calendar/\n",
      "https://extension.harvard.edu/forms/\n",
      "https://extension.harvard.edu/paying-for-school/\n",
      "https://extension.harvard.edu/paying-for-school/payment-options-policies/\n",
      "https://extension.harvard.edu/paying-for-school/financial-aid/\n",
      "https://extension.harvard.edu/paying-for-school/financial-wellness/\n",
      "https://extension.harvard.edu/about/\n",
      "https://extension.harvard.edu/about/student-stories/\n",
      "https://extension.harvard.edu/about/meet-the-dean/\n",
      "https://extension.harvard.edu/about/online-learning/\n",
      "https://extension.harvard.edu/about/why-harvard-extension-school/\n",
      "https://extension.harvard.edu/blog/\n",
      "https://extension.harvard.edu/contact/\n",
      "https://extension.harvard.edu/events/\n",
      "https://extension.harvard.edu/about/news-press/\n",
      "https://extension.harvard.edu/media-photo/\n",
      "https://extension.harvard.edu/for-students/\n",
      "https://extension.harvard.edu/for-students/support-and-services/\n",
      "https://extension.harvard.edu/for-students/student-policies-conduct/\n",
      "https://alumni.extension.harvard.edu/\n",
      "https://extension.harvard.edu/website-archives/\n",
      "https://dce.harvard.edu/privacy-statement/\n",
      "https://courses.dce.harvard.edu/extension\n",
      "/login/\n",
      "https://twitter.com/HarvardEXT\n",
      "https://www.facebook.com/HarvardExtension\n",
      "https://www.youtube.com/user/HarvardExtension\n",
      "https://www.instagram.com/harvardextension/\n",
      "/academics/programs/take-a-course/\n",
      "/academics/?live_global%5BrefinementList%5D%5Blevels%5D%5B0%5D=Graduate%20Degree&live_global%5BrefinementList%5D%5Blevels%5D%5B1%5D=Graduate%20Certificate\n",
      "/academics/?live_global%5BrefinementList%5D%5Blevels%5D%5B0%5D=Undergraduate%20Certificate&live_global%5BrefinementList%5D%5Blevels%5D%5B1%5D=Undergraduate%20Degree\n",
      "/academics/programs/premedical-program/\n",
      "https://extension.harvard.edu/academics/programs/academic-gap-year/\n",
      "/about/why-harvard-extension-school/\n",
      "https://extension.harvard.edu/about/student-stories/\n",
      "/events/webinar-how-to-prepare-for-spring-registration/\n",
      "https://extension.harvard.edu/about/\n",
      "/academics/?live_global%5BrefinementList%5D%5Blevels%5D%5B0%5D=Graduate%20Certificate\n",
      "/academics/?live_global%5BrefinementList%5D%5Blevels%5D%5B0%5D=Graduate%20Degree\n",
      "/academics/?live_global%5BrefinementList%5D%5Blevels%5D%5B0%5D=Undergraduate%20Certificate\n",
      "/academics/?live_global%5BrefinementList%5D%5Blevels%5D%5B0%5D=Undergraduate%20Degree\n",
      "/academics/programs/premedical-program/\n",
      "https://www.extension.harvard.edu/course-catalog\n",
      "https://extension.harvard.edu/blog/five-reasons-why-you-should-consider-a-career-in-cybersecurity/\n",
      "https://extension.harvard.edu/news/extending-our-gratitude-to-the-extension-school/\n",
      "https://extension.harvard.edu/blog/eight-cybersecurity-skills-in-highest-demand/\n",
      "https://extension.harvard.edu/blog/author-tom-nichols-our-own-worst-enemy/\n",
      "https://extension.harvard.edu/news/harvard-launches-new-ad-campaign-to-build-greater-awareness-of-universitys-division-of-continuing-education/\n",
      "https://courses.dce.harvard.edu/extension\n",
      "/login/\n",
      "/website-archives/\n",
      "https://twitter.com/HarvardEXT\n",
      "https://www.facebook.com/HarvardExtension\n",
      "https://www.instagram.com/harvardextension/\n",
      "https://www.youtube.com/user/HarvardExtension\n",
      "https://dce.harvard.edu\n",
      "https://extension.harvard.edu\n",
      "https://summer.harvard.edu\n",
      "https://professional.dce.harvard.edu\n",
      "https://hilr.dce.harvard.edu\n",
      "https://dce.harvard.edu\n",
      "https://dce.harvard.edu/privacy-statement/\n",
      "https://extension.harvard.edu/for-students/support-and-services/accessibility-services/\n",
      "https://extension.harvard.edu/for-students/student-policies-conduct/rights-regulations/\n",
      "https://accessibility.huit.harvard.edu/digital-accessibility-policy\n",
      "https://www.harvard.edu/\n",
      "#\n"
     ]
    }
   ],
   "source": [
    "## \n",
    "from bs4 import BeautifulSoup\n",
    "import requests\n",
    "\n",
    "#get webpage\n",
    "url = ('https://extension.harvard.edu/')\n",
    "webpage = requests.get(url)\n",
    "webtext = webpage.text\n",
    "soup = BeautifulSoup(webtext, \"html.parser\")\n",
    "\n",
    "#find & print all links, put into list for later\n",
    "linklst = []\n",
    "for link in soup.find_all('a'):\n",
    "    links = link.get('href')\n",
    "    linklst.append(links)\n",
    "    print(links)\n",
    "    \n"
   ]
  },
  {
   "cell_type": "markdown",
   "metadata": {},
   "source": [
    "## How many links are there?"
   ]
  },
  {
   "cell_type": "code",
   "execution_count": 13,
   "metadata": {},
   "outputs": [
    {
     "name": "stdout",
     "output_type": "stream",
     "text": [
      "There are 114 links at https://extension.harvard.edu/.\n"
     ]
    }
   ],
   "source": [
    "## \n",
    "print(f'There are {len(linklst)} links at {url}.')\n"
   ]
  },
  {
   "cell_type": "markdown",
   "metadata": {},
   "source": [
    "## How many are relative links?"
   ]
  },
  {
   "cell_type": "code",
   "execution_count": 22,
   "metadata": {},
   "outputs": [
    {
     "name": "stdout",
     "output_type": "stream",
     "text": [
      "There are 24 relative links and 90 absolute links.\n"
     ]
    }
   ],
   "source": [
    "## \n",
    "relative = 0\n",
    "for link in linklst:\n",
    "    if 'http' not in str(link):\n",
    "        relative+=1\n",
    "absolute = len(linklst) - relative\n",
    "print(f'There are {relative} relative links and {absolute} absolute links.')"
   ]
  },
  {
   "cell_type": "markdown",
   "metadata": {},
   "source": [
    "## How many links appear exactly twice?"
   ]
  },
  {
   "cell_type": "code",
   "execution_count": 15,
   "metadata": {},
   "outputs": [
    {
     "name": "stdout",
     "output_type": "stream",
     "text": [
      "Number of links that appear twice: 29\n"
     ]
    }
   ],
   "source": [
    "## find number or times each link appears\n",
    "dup = 0\n",
    "for link in linklst:\n",
    "    reps = linklst.count(link)\n",
    "    if reps == 2:\n",
    "        dup+=1\n",
    "print(f'Number of links that appear twice: {dup//2}')"
   ]
  },
  {
   "cell_type": "markdown",
   "metadata": {},
   "source": [
    "## Which links appear three or more times?"
   ]
  },
  {
   "cell_type": "code",
   "execution_count": 21,
   "metadata": {},
   "outputs": [
    {
     "name": "stdout",
     "output_type": "stream",
     "text": [
      "https://extension.harvard.edu appears 3 times.\n",
      "/academics/programs/take-a-course/ appears 3 times.\n",
      "https://extension.harvard.edu/for-students/ appears 3 times.\n",
      "https://extension.harvard.edu/about/ appears 3 times.\n",
      "https://extension.harvard.edu/about/student-stories/ appears 3 times.\n",
      "https://courses.dce.harvard.edu/extension appears 3 times.\n"
     ]
    }
   ],
   "source": [
    "## List the links that appear more than twice\n",
    "threeplus = []\n",
    "for link in linklst:\n",
    "    reps = linklst.count(link)\n",
    "    if reps >= 3:\n",
    "        if link not in threeplus: #only print each link once\n",
    "            print(f'{link} appears {reps} times.')\n",
    "            threeplus.append(link)\n",
    "        "
   ]
  },
  {
   "cell_type": "markdown",
   "metadata": {},
   "source": [
    "# Post Mortem\n",
    "## How long did it take you to solve this problem set?\n",
    "## Did anything confuse you or cause difficulty?"
   ]
  },
  {
   "cell_type": "code",
   "execution_count": 18,
   "metadata": {},
   "outputs": [],
   "source": [
    "## Your thoughts\n",
    "#It took two days and a difficulty was not knowing some of the correct answers for the last problem to check my work"
   ]
  },
  {
   "cell_type": "code",
   "execution_count": null,
   "metadata": {},
   "outputs": [],
   "source": []
  }
 ],
 "metadata": {
  "kernelspec": {
   "display_name": "Python 3",
   "language": "python",
   "name": "python3"
  },
  "language_info": {
   "codemirror_mode": {
    "name": "ipython",
    "version": 3
   },
   "file_extension": ".py",
   "mimetype": "text/x-python",
   "name": "python",
   "nbconvert_exporter": "python",
   "pygments_lexer": "ipython3",
   "version": "3.8.8"
  }
 },
 "nbformat": 4,
 "nbformat_minor": 1
}
