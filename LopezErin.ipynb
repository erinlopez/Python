{
 "cells": [
  {
   "cell_type": "markdown",
   "id": "c3647333",
   "metadata": {},
   "source": [
    "<div style=\"font-size:16px; background-color: lightblue;border: 2px solid gray;\">\n",
    "    <h2 style =\"text-align:left; padding-top:5px;\"> CS 101 - Foundation of Data Science and Engineering (Spring 2023) </h2>\n",
    "    <p><b> PSET-7 - Object Oriented Programming\n",
    "    \n",
    "<b></p> <br>\n",
    "</div>"
   ]
  },
  {
   "cell_type": "markdown",
   "id": "53533c43",
   "metadata": {},
   "source": [
    "### Objective:\n",
    " \n",
    "**In this assignment you will be working with Class, Objects and Inheritance that was discussed in the class.** \n",
    "    \n",
    "\n",
    "\n"
   ]
  },
  {
   "cell_type": "markdown",
   "id": "5378a04b",
   "metadata": {},
   "source": [
    "### Assignment Goal:\n",
    "**Tasty soup is a soup and salad restaurant located between Harvard and MIT campus. In this assignment you will design two classes to help Tasty Soup restaurant manage their frequent dining program to attract student customers.**\n"
   ]
  },
  {
   "cell_type": "markdown",
   "id": "8a009a34",
   "metadata": {},
   "source": [
    "### This is an individual assignment. No collaboration is allowed."
   ]
  },
  {
   "cell_type": "markdown",
   "id": "91a0f38e",
   "metadata": {},
   "source": [
    "### Question 1: (10 pts)\n",
    "**Create a class called Account with the following attributes:**\n"
   ]
  },
  {
   "cell_type": "markdown",
   "id": "a8b30ffe",
   "metadata": {},
   "source": [
    "**1. cust_num : a 4 digit number to store student id. Example: 1000, 1001, 1002**"
   ]
  },
  {
   "cell_type": "markdown",
   "id": "94151d9e",
   "metadata": {},
   "source": [
    "**2. u_name : a string to store student's university name. For the purposes of this assignment only 3 names are allowed. HARVARD, MIT, and OTHERS(all case sensitive).**   "
   ]
  },
  {
   "cell_type": "markdown",
   "id": "ae6717ce",
   "metadata": {},
   "source": [
    "**Please be sure to include a constructor that can initialize the class with the above attributes. Assume inputs passed to your class will always be correct i.e. you are not required to check types, and verify uppercase or lower case.** "
   ]
  },
  {
   "cell_type": "code",
   "execution_count": 430,
   "id": "bb9dcbcc",
   "metadata": {},
   "outputs": [],
   "source": [
    "#your code here\n",
    "class Account:\n",
    "    def __init__(self, num, name):\n",
    "        #student id must be 4 digits\n",
    "        if len(str(num)) != 4:\n",
    "            raise ValueError(\"Not a valid student ID\")\n",
    "        self.cust_num = int(num)\n",
    "        \n",
    "        #university must be in allowed names\n",
    "        allowed = ['HARVARD', 'MIT', 'OTHERS'] \n",
    "        if name not in allowed:\n",
    "            raise ValueError(\"Not a valid name\")\n",
    "        self.u_name = str(name)\n"
   ]
  },
  {
   "cell_type": "markdown",
   "id": "5dc01b7f",
   "metadata": {},
   "source": [
    "###  Question 2: (40 pts) "
   ]
  },
  {
   "cell_type": "markdown",
   "id": "d156d3b8",
   "metadata": {},
   "source": [
    "**Create a class called Order which is a subclass of Account with the following attributes and methods.**"
   ]
  },
  {
   "cell_type": "markdown",
   "id": "4b643111",
   "metadata": {},
   "source": [
    "**Attributes (5 points) :**"
   ]
  },
  {
   "cell_type": "markdown",
   "id": "46e252c7",
   "metadata": {},
   "source": [
    "**Private attributes**"
   ]
  },
  {
   "cell_type": "markdown",
   "id": "4a920ba9",
   "metadata": {},
   "source": [
    "**1. midterm  : (int) stores the midterm score of a student for CS101. Assume all universities offer this class. This is a private attribute. In python private members are stored by adding 2 underscores in front of the name of the variable. Example: midterm will be stored as __midterm**"
   ]
  },
  {
   "cell_type": "markdown",
   "id": "8e51eaf3",
   "metadata": {},
   "source": [
    "**2. password : (string) stores the password of the student. If a student forgets his password, this will be set to \"0\". No logic required here. This is simply a default value for password if nothing was passed in your constructor for password.**"
   ]
  },
  {
   "cell_type": "markdown",
   "id": "3c99d611",
   "metadata": {},
   "source": [
    "**Public attributes:**"
   ]
  },
  {
   "cell_type": "markdown",
   "id": "d865d219",
   "metadata": {},
   "source": [
    "**3. meal_cost : (float) the cost of the meal purchased.**"
   ]
  },
  {
   "cell_type": "markdown",
   "id": "91a9db35",
   "metadata": {},
   "source": [
    "**4. balance : (int) stores the total frequent dining points.**"
   ]
  },
  {
   "cell_type": "markdown",
   "id": "f8684528",
   "metadata": {},
   "source": [
    "**Methods 1-4(15 points) :**"
   ]
  },
  {
   "cell_type": "markdown",
   "id": "434cbacf",
   "metadata": {},
   "source": [
    "**1. get_balance : returns the frequent dining balance for a student.**"
   ]
  },
  {
   "cell_type": "markdown",
   "id": "6d609189",
   "metadata": {},
   "source": [
    "**2. get_midterm : returns the midterm score for the student**"
   ]
  },
  {
   "cell_type": "markdown",
   "id": "16fadd3c",
   "metadata": {},
   "source": [
    "**3. get_password : returns the password of the student.**"
   ]
  },
  {
   "cell_type": "markdown",
   "id": "095e2460",
   "metadata": {},
   "source": [
    "**4. set_midterm: sets/updates the midterm of the student**"
   ]
  },
  {
   "cell_type": "markdown",
   "id": "f98a4a6c",
   "metadata": {},
   "source": [
    "**5. \n",
    "    update_balance : Updates the frequent dining points for a student after each meal using the rules defined below (20 pts) :** "
   ]
  },
  {
   "cell_type": "markdown",
   "id": "c43b616d",
   "metadata": {},
   "source": [
    "**5a. All students who purchase a meal that is equal to or greater than 15 dollars will earn 10 frequent dining points.**\n",
    "\n",
    "**Please Note: Parts 5b to 5f is only applicable if 5a is True.**"
   ]
  },
  {
   "cell_type": "markdown",
   "id": "2392c683",
   "metadata": {},
   "source": [
    "**5b. An Extra 5 points will be awarded for every 15 dollars spent in addition to 5a.\n",
    "     Example if student purchases a meal of 15 dollars he is awarded 10 points based on 5a only. A student purchase of 30 dollars will result in an award of 15 points,  a purchase of 45 dollars will result in 20 points, and a purchase of 50 dollars will result in 20 points. Your code should be able to handle any meal cost. Think about a student who throws a party for his friends every weekend. He may end up spending 1000's of dollars.**"
   ]
  },
  {
   "cell_type": "markdown",
   "id": "e23976f7",
   "metadata": {},
   "source": [
    "**5c.  If a student is from HARVARD he will be awarded an extra 5 points per meal in addition to the\n",
    "        above critera.**"
   ]
  },
  {
   "cell_type": "markdown",
   "id": "1283e6da",
   "metadata": {},
   "source": [
    "**5d. If a student is from MIT he will be awarded an extra 3 points in addition to the above <br>\n",
    "        criteria per meal.** "
   ]
  },
  {
   "cell_type": "markdown",
   "id": "58e77cdb",
   "metadata": {},
   "source": [
    "**5e. Student belonging to OTHER are not awarded any extra points, but only points based on <br>\n",
    "        criteria 5a, and 5b**"
   ]
  },
  {
   "cell_type": "markdown",
   "id": "4bb01af0",
   "metadata": {},
   "source": [
    "**5f. Students who have scored 80 points or above in the midterm of CS101 are awarded 3 extra points. This is a pilot program, and is offered only to HARVARD Students (One more reason to take CS101 at Harvard)**"
   ]
  },
  {
   "cell_type": "markdown",
   "id": "83219b5d",
   "metadata": {},
   "source": [
    "**5g. If a student has forgotten his password i.e. if the value of password is set to \"0\" , their frequent dining points are reset to 0. In addition no points are awarded for any meal purchases.**"
   ]
  },
  {
   "cell_type": "markdown",
   "id": "7981ead8",
   "metadata": {},
   "source": [
    "**Note :update_balance should be called at an instance level not inside the class. See example at Question-3 for usage. See also the the order of parameters being passed in constructor** "
   ]
  },
  {
   "cell_type": "code",
   "execution_count": 431,
   "id": "8f6a8495",
   "metadata": {},
   "outputs": [],
   "source": [
    "#your code here\n",
    "\n",
    "class Order(Account):\n",
    "    #Attributes\n",
    "    def __init__(self,num, name, mid, meal, pw = 0, bal = 0):\n",
    "        \n",
    "        super().__init__(num, name)\n",
    "        #private\n",
    "        self.__midterm = int(mid) \n",
    "        self.__password = str(pw)\n",
    "        \n",
    "        #public\n",
    "        self.meal_cost = float(meal) \n",
    "        self.balance = int(bal) #total freq dining points\n",
    "\n",
    "    #Methods\n",
    "    def get_balance(self):\n",
    "        return self.balance\n",
    "    \n",
    "    def get_midterm(self):\n",
    "        return self.__midterm\n",
    "    \n",
    "    def get_password(self):\n",
    "        return self.__password\n",
    "\n",
    "    def set_midterm(self, mid):\n",
    "        self.__midterm = mid\n",
    "\n",
    "    def update_balance(self):\n",
    "        #points for meal cost\n",
    "        if self.meal_cost >= 15:\n",
    "            self.balance += 10\n",
    "            if self.meal_cost >= 30:\n",
    "                mult = int((self.meal_cost / 15) - 1) #5 points for every additional $15\n",
    "                self.balance += mult * 5\n",
    "        \n",
    "        #points for school     \n",
    "            #only valid if spend >= $15\n",
    "            if self.u_name == \"HARVARD\":\n",
    "                self.balance += 5\n",
    "                if self.__midterm >= 80: #points for midterm\n",
    "                    self.balance += 3\n",
    "            if self.u_name == \"MIT\":\n",
    "                self.balance += 3\n",
    "        \n",
    "        #clear points if forgot password\n",
    "        if self.__password == '0':\n",
    "            self.balance = 0\n",
    "            \n",
    "        return self.balance\n",
    "\n",
    "\n",
    "\n",
    "\n",
    "\n"
   ]
  },
  {
   "cell_type": "markdown",
   "id": "87c000dd",
   "metadata": {},
   "source": [
    "### Question-3 - Testing your code (10 pts)\n",
    "Write at least 5 test cases to test different parts of your implementation. We have provided an example. You will get full points as long as you have 5 test cases and a description of what is being tested. You are welcome to write your test cases using python unit test library. However, it is not required.\n"
   ]
  },
  {
   "cell_type": "code",
   "execution_count": 432,
   "id": "d40f2cb9",
   "metadata": {},
   "outputs": [
    {
     "name": "stdout",
     "output_type": "stream",
     "text": [
      "Customer number is : 1001 \n",
      "University:HARVARD\n"
     ]
    }
   ],
   "source": [
    "#Example - Test Account class constructor with cust_num 1001, and u_name HARVARD\n",
    "account = Account(1001, \"HARVARD\")\n",
    "print(f\"Customer number is : {account.cust_num} \\nUniversity:{account.u_name}\")\n"
   ]
  },
  {
   "cell_type": "code",
   "execution_count": 433,
   "id": "d8601cf0",
   "metadata": {},
   "outputs": [
    {
     "name": "stdout",
     "output_type": "stream",
     "text": [
      "The students frequent dining balance = 13\n"
     ]
    }
   ],
   "source": [
    "#Example - Test frequent dining points for MIT student with cust_num =1001, u_name = \"MIT\"\n",
    "# midterm = 85, meal_cost = 18, password = 'abcd'\n",
    "mit_student_order = Order(1001,\"MIT\", 85, 18, 'abcd')\n",
    "mit_student_order.update_balance()\n",
    "print(f\"The students frequent dining balance = {mit_student_order.balance}\")\n",
    "\n"
   ]
  },
  {
   "cell_type": "code",
   "execution_count": null,
   "id": "f3233c98",
   "metadata": {},
   "outputs": [],
   "source": [
    "#your tests here"
   ]
  },
  {
   "cell_type": "code",
   "execution_count": 434,
   "id": "4cf5b133",
   "metadata": {},
   "outputs": [
    {
     "ename": "ValueError",
     "evalue": "Not a valid name",
     "output_type": "error",
     "traceback": [
      "\u001b[0;31m---------------------------------------------------------------------------\u001b[0m",
      "\u001b[0;31mValueError\u001b[0m                                Traceback (most recent call last)",
      "Input \u001b[0;32mIn [434]\u001b[0m, in \u001b[0;36m<cell line: 2>\u001b[0;34m()\u001b[0m\n\u001b[1;32m      1\u001b[0m \u001b[38;5;66;03m#Test Account class with invalid school name\u001b[39;00m\n\u001b[0;32m----> 2\u001b[0m schoolfail \u001b[38;5;241m=\u001b[39m \u001b[43mAccount\u001b[49m\u001b[43m(\u001b[49m\u001b[38;5;241;43m2930\u001b[39;49m\u001b[43m,\u001b[49m\u001b[43m \u001b[49m\u001b[38;5;124;43m\"\u001b[39;49m\u001b[38;5;124;43mMIA\u001b[39;49m\u001b[38;5;124;43m\"\u001b[39;49m\u001b[43m)\u001b[49m\n",
      "Input \u001b[0;32mIn [430]\u001b[0m, in \u001b[0;36mAccount.__init__\u001b[0;34m(self, num, name)\u001b[0m\n\u001b[1;32m     10\u001b[0m allowed \u001b[38;5;241m=\u001b[39m [\u001b[38;5;124m'\u001b[39m\u001b[38;5;124mHARVARD\u001b[39m\u001b[38;5;124m'\u001b[39m, \u001b[38;5;124m'\u001b[39m\u001b[38;5;124mMIT\u001b[39m\u001b[38;5;124m'\u001b[39m, \u001b[38;5;124m'\u001b[39m\u001b[38;5;124mOTHERS\u001b[39m\u001b[38;5;124m'\u001b[39m] \n\u001b[1;32m     11\u001b[0m \u001b[38;5;28;01mif\u001b[39;00m name \u001b[38;5;129;01mnot\u001b[39;00m \u001b[38;5;129;01min\u001b[39;00m allowed:\n\u001b[0;32m---> 12\u001b[0m     \u001b[38;5;28;01mraise\u001b[39;00m \u001b[38;5;167;01mValueError\u001b[39;00m(\u001b[38;5;124m\"\u001b[39m\u001b[38;5;124mNot a valid name\u001b[39m\u001b[38;5;124m\"\u001b[39m)\n\u001b[1;32m     13\u001b[0m \u001b[38;5;28mself\u001b[39m\u001b[38;5;241m.\u001b[39mu_name \u001b[38;5;241m=\u001b[39m \u001b[38;5;28mstr\u001b[39m(name)\n",
      "\u001b[0;31mValueError\u001b[0m: Not a valid name"
     ]
    }
   ],
   "source": [
    "#Test Account class with invalid school name\n",
    "schoolfail = Account(2930, \"MIA\")\n"
   ]
  },
  {
   "cell_type": "code",
   "execution_count": 435,
   "id": "328e2c94",
   "metadata": {},
   "outputs": [
    {
     "name": "stdout",
     "output_type": "stream",
     "text": [
      "Original midterm: 70 \n",
      "Updated midterm:90\n"
     ]
    }
   ],
   "source": [
    "#Test get_midterm and set_midterm functions\n",
    "#cust_num: 1000, u_name: HARVARD, midterm: 70, meal_cost: 15, password: bubblegum\n",
    "midtest = Order(1000, \"HARVARD\", 70, 15, \"bubblegum\")\n",
    "ogmid = midtest.get_midterm()\n",
    "midtest.set_midterm(90)\n",
    "newmid = midtest.get_midterm()\n",
    "\n",
    "print(f\"Original midterm: {ogmid} \\nUpdated midterm:{newmid}\")\n"
   ]
  },
  {
   "cell_type": "code",
   "execution_count": 436,
   "id": "32ca4f78",
   "metadata": {},
   "outputs": [
    {
     "name": "stdout",
     "output_type": "stream",
     "text": [
      "Start balance: 39 \n",
      "Updated balance:0\n"
     ]
    }
   ],
   "source": [
    "#Test freq dining points for student who forgot password\n",
    "#Points cleared and no new points earned for meal\n",
    "#cust_num: 1000, u_name: MIT, midterm: 94, meal_cost: 30, password: 0\n",
    "\n",
    "baltest = Order(1000, \"MIT\", 94, 30, bal = 39)\n",
    "startbal = baltest.get_balance()\n",
    "newbal = baltest.update_balance()\n",
    "\n",
    "print(f\"Start balance: {startbal} \\nUpdated balance:{newbal}\")"
   ]
  },
  {
   "cell_type": "code",
   "execution_count": 437,
   "id": "bc04a5f9",
   "metadata": {},
   "outputs": [
    {
     "name": "stdout",
     "output_type": "stream",
     "text": [
      "Updated balance HARVARD: 115\n",
      "Updated balance MIT: 113\n",
      "Updated balance OTHERS: 110\n"
     ]
    }
   ],
   "source": [
    "#Test extra points awarded for school\n",
    "#cust_num: 2000, midterm: 73, meal_cost: 15, password: phishphood, balance: 100\n",
    "#Expected: 10 points for meal, +5 (Harvard), +3 (MIT), +0 (OTHER)\n",
    "\n",
    "for s in [\"HARVARD\", \"MIT\", \"OTHERS\"]:\n",
    "    baltest2 = Order(2000, s, 73, 15, \"phishphood\", 100)\n",
    "    print(f\"Updated balance {s}: {baltest2.update_balance()}\")"
   ]
  },
  {
   "cell_type": "code",
   "execution_count": 438,
   "id": "30ec7b3c",
   "metadata": {},
   "outputs": [
    {
     "name": "stdout",
     "output_type": "stream",
     "text": [
      "Midterm score 70: 15\n",
      "Midterm score 80: 18\n",
      "Midterm score 90: 18\n"
     ]
    }
   ],
   "source": [
    "#Test midterm extra points for HARVARD student\n",
    "#cust_num: 1412, u_name: HARVARD, meal_cost: 15, password: umbre11a, balance: 0\n",
    "#Expected: all +5 for being Harvard student, +3 for midterm = 80, +3 for midterm above 80\n",
    "for m in [70, 80, 90]:\n",
    "    midbal = Order(1412, \"HARVARD\", m, 15, \"umbre11a\")\n",
    "    print(f\"Midterm score {m}: {midbal.update_balance()}\")"
   ]
  },
  {
   "cell_type": "code",
   "execution_count": 439,
   "id": "8b00d403",
   "metadata": {},
   "outputs": [
    {
     "name": "stdout",
     "output_type": "stream",
     "text": [
      "Password: blue42\n",
      "Default Password: 0\n"
     ]
    }
   ],
   "source": [
    "#Test get password function and default password value\n",
    "passtest = Order(1932, \"MIT\", 91, 29, \"blue42\")\n",
    "print(f\"Password: {passtest.get_password()}\")\n",
    "\n",
    "passtest2 = Order(1932, \"MIT\", 91, 29)\n",
    "print(f\"Default Password: {passtest2.get_password()}\")\n",
    "\n"
   ]
  },
  {
   "cell_type": "markdown",
   "id": "c36d4874",
   "metadata": {},
   "source": [
    "### Question 4-8 (30 points)\n",
    "**Absolute Tests - For Question 4-8 simply run the cell below. We will verify your output with expected outputs.\n",
    "You implementation should be based on the requirement and not these test cases. If you have implemented the requirement correctly, your output should be as expected. Please do not modify the code for question 4-8**"
   ]
  },
  {
   "cell_type": "markdown",
   "id": "6ddc18ee",
   "metadata": {},
   "source": [
    "\n",
    "### Question 4: Test Class and Objects were created (3 pts) "
   ]
  },
  {
   "cell_type": "code",
   "execution_count": 440,
   "id": "c20efec8",
   "metadata": {
    "scrolled": true
   },
   "outputs": [
    {
     "name": "stdout",
     "output_type": "stream",
     "text": [
      "Order specifics: \n",
      " u_name : HARVARD,     cust_num 1000,     midterm :89,     meal_cost:16.95      balance:18 \n",
      "\n",
      "Order specifics: \n",
      " u_name : MIT,     cust_num 1001,     midterm :89,     meal_cost:16.95      balance:13 \n",
      "\n",
      "Order specifics: \n",
      " u_name : OTHERS,     cust_num 1002,     midterm :89,     meal_cost:16.95      balance:10 \n",
      "\n"
     ]
    }
   ],
   "source": [
    "test1 = [(1000, 'HARVARD', 89,16.95,'abcd'),(1001, 'MIT', 89, 16.95, \"defg\"),\\\n",
    "         (1002, 'OTHERS', 89, 16.95, \"ghij\")]\n",
    "\n",
    "\n",
    "for test in test1:\n",
    "    order = Order(test[0],test[1],test[2],test[3],test[4])\n",
    "    order.update_balance()\n",
    "    student_info = f\"Order specifics: \\n u_name : { order.u_name}, \\\n",
    "    cust_num {order.cust_num}, \\\n",
    "    midterm :{order.get_midterm()}, \\\n",
    "    meal_cost:{order.meal_cost}  \\\n",
    "    balance:{order.get_balance()} \\n\"\n",
    "    \n",
    "    print(student_info)\n",
    "    "
   ]
  },
  {
   "cell_type": "markdown",
   "id": "807a779c",
   "metadata": {},
   "source": [
    "### Question 5: Test update_balance for one HARVARD Student(10 pts) \n",
    "       "
   ]
  },
  {
   "cell_type": "code",
   "execution_count": 441,
   "id": "f4ace657",
   "metadata": {},
   "outputs": [
    {
     "name": "stdout",
     "output_type": "stream",
     "text": [
      "Balance with meal cost 0 is: 0\n",
      "Balance with meal cost 100 is: 43\n",
      "Balance with meal cost 200 is: 121\n",
      "Balance with meal cost 300 is: 234\n",
      "Balance with meal cost 400 is: 377\n",
      "Balance with meal cost 500 is: 555\n",
      "Balance with meal cost 600 is: 768\n",
      "Balance with meal cost 700 is: 1011\n",
      "Balance with meal cost 800 is: 1289\n",
      "Balance with meal cost 900 is: 1602\n"
     ]
    }
   ],
   "source": [
    "import numpy as np\n",
    "test2 = (1000, 'HARVARD', 89, 0, \"abcd\")\n",
    "meal_costs = np.arange(0,1000, 100) \n",
    "\n",
    "order = Order(test2[0],test2[1],test2[2],test2[3],test2[4])\n",
    "order.update_balance()\n",
    "\n",
    "for meal_cost in meal_costs:\n",
    "    order.meal_cost = meal_cost\n",
    "    order.update_balance()\n",
    "    print(f\"Balance with meal cost {order.meal_cost} is: {order.get_balance()}\")\n",
    "    "
   ]
  },
  {
   "cell_type": "markdown",
   "id": "6a3c5402",
   "metadata": {},
   "source": [
    "### Question 6: Test update_balance for one MIT Student(9 pts)        "
   ]
  },
  {
   "cell_type": "code",
   "execution_count": 442,
   "id": "fd56e4de",
   "metadata": {},
   "outputs": [
    {
     "name": "stdout",
     "output_type": "stream",
     "text": [
      "Balance with meal cost 0 is: 0\n",
      "Balance with meal cost 100 is: 38\n",
      "Balance with meal cost 200 is: 111\n"
     ]
    }
   ],
   "source": [
    "import numpy as np\n",
    "test3 = (1002, 'MIT', 89, 0, \"9879\")\n",
    "meal_costs = np.arange(0, 300, 100) \n",
    "\n",
    "order = Order(test3[0],test3[1],test3[2],test3[3],test3[4])\n",
    "order.update_balance()\n",
    "\n",
    "for meal_cost in meal_costs:\n",
    "    order.meal_cost = meal_cost\n",
    "    order.update_balance()\n",
    "    print(f\"Balance with meal cost {order.meal_cost} is: {order.get_balance()}\")\n",
    "    "
   ]
  },
  {
   "cell_type": "markdown",
   "id": "57a1fd52",
   "metadata": {},
   "source": [
    "\n",
    "### Question 7: Test update_balance for OTHERS(4 pts)   \n",
    "         "
   ]
  },
  {
   "cell_type": "code",
   "execution_count": 443,
   "id": "30bcf868",
   "metadata": {},
   "outputs": [
    {
     "name": "stdout",
     "output_type": "stream",
     "text": [
      "Balance with meal cost 1000 is: 335\n",
      "Balance with meal cost 1500 is: 840\n",
      "Balance with meal cost 2000 is: 1510\n"
     ]
    }
   ],
   "source": [
    "import numpy as np\n",
    "test3 = (1002, 'OTHERS', 89, 0, \"9111\")\n",
    "meal_costs = np.arange(1000, 2100, 500 ) \n",
    "\n",
    "order = Order(test3[0],test3[1],test3[2],test3[3],test3[4])\n",
    "order.update_balance()\n",
    "\n",
    "for meal_cost in meal_costs:\n",
    "    order.meal_cost = meal_cost\n",
    "    order.update_balance()\n",
    "    print(f\"Balance with meal cost {order.meal_cost} is: {order.get_balance()}\")"
   ]
  },
  {
   "cell_type": "markdown",
   "id": "c0487707",
   "metadata": {},
   "source": [
    "### Question 8: Test update_balance for students who have forgotten their passwords(4 pts)"
   ]
  },
  {
   "cell_type": "code",
   "execution_count": 444,
   "id": "697771a4",
   "metadata": {},
   "outputs": [
    {
     "name": "stdout",
     "output_type": "stream",
     "text": [
      "Balance with meal cost 0 is: 0\n",
      "Balance with meal cost 100 is: 0\n",
      "Balance with meal cost 200 is: 0\n"
     ]
    }
   ],
   "source": [
    "import numpy as np\n",
    "test4 = (1000, 'HARVARD', 89, 0, \"0\")\n",
    "meal_costs = np.arange(0, 300, 100) \n",
    "\n",
    "order = Order(test4[0],test4[1],test4[2],test4[3],test4[4])\n",
    "order.update_balance()\n",
    "\n",
    "for meal_cost in meal_costs:\n",
    "    order.meal_cost = meal_cost\n",
    "    order.update_balance()\n",
    "    print(f\"Balance with meal cost {order.meal_cost} is: {order.get_balance()}\")\n",
    "    "
   ]
  },
  {
   "cell_type": "markdown",
   "id": "a408de2e",
   "metadata": {},
   "source": [
    "### Question 9 (5 pts)\n",
    "\n",
    "**Working with Class and objects is very important in data science\n",
    "You will be working with a lot of api's which are all created using class and objects.\n",
    "You have already worked with pandas. Let's tie what you have learned in this homework\n",
    "with what you have already learned. Run the cell below, and answer the question that follow**   \n",
    "      "
   ]
  },
  {
   "cell_type": "code",
   "execution_count": 428,
   "id": "bf49bb38",
   "metadata": {},
   "outputs": [
    {
     "name": "stdout",
     "output_type": "stream",
     "text": [
      "(3, 1)\n"
     ]
    },
    {
     "data": {
      "text/html": [
       "<div>\n",
       "<style scoped>\n",
       "    .dataframe tbody tr th:only-of-type {\n",
       "        vertical-align: middle;\n",
       "    }\n",
       "\n",
       "    .dataframe tbody tr th {\n",
       "        vertical-align: top;\n",
       "    }\n",
       "\n",
       "    .dataframe thead th {\n",
       "        text-align: right;\n",
       "    }\n",
       "</style>\n",
       "<table border=\"1\" class=\"dataframe\">\n",
       "  <thead>\n",
       "    <tr style=\"text-align: right;\">\n",
       "      <th></th>\n",
       "      <th>midterm_scores</th>\n",
       "    </tr>\n",
       "  </thead>\n",
       "  <tbody>\n",
       "    <tr>\n",
       "      <th>0</th>\n",
       "      <td>96</td>\n",
       "    </tr>\n",
       "    <tr>\n",
       "      <th>1</th>\n",
       "      <td>90</td>\n",
       "    </tr>\n",
       "    <tr>\n",
       "      <th>2</th>\n",
       "      <td>85</td>\n",
       "    </tr>\n",
       "  </tbody>\n",
       "</table>\n",
       "</div>"
      ],
      "text/plain": [
       "   midterm_scores\n",
       "0              96\n",
       "1              90\n",
       "2              85"
      ]
     },
     "execution_count": 428,
     "metadata": {},
     "output_type": "execute_result"
    }
   ],
   "source": [
    "import pandas as pd\n",
    "midterm_scores = [96,90,85]\n",
    "df = pd.DataFrame(midterm_scores, columns=['midterm_scores'])\n",
    "\n",
    "shape = df.shape\n",
    "print(shape)\n",
    "df.sort_values(by='midterm_scores', ascending=False)\n"
   ]
  },
  {
   "cell_type": "markdown",
   "id": "02132654",
   "metadata": {},
   "source": [
    "1. Identify the class name and the parameters which is being used to create the object df. (2pt)\n",
    "2. Identify the attribute being called on the object df. (1pt)\n",
    "3. Identify the method, and the method parameters being called by our object df. (2 pt)     \n",
    " "
   ]
  },
  {
   "cell_type": "markdown",
   "id": "7ee07325",
   "metadata": {},
   "source": [
    "**your answer here**\n",
    "1. class name: pd.DataFrame\n",
    "   parameters: data = midterm_scores, columns = ['midterm_scores']\n",
    "\n",
    "2. .shape (shape of the object)\n",
    "\n",
    "3. method: sort_values, parameters: by = 'midterm_scores', ascending = False"
   ]
  },
  {
   "cell_type": "markdown",
   "id": "5c4a0fde",
   "metadata": {},
   "source": [
    "\n",
    "### Coding style (5pts)\n",
    "Please make sure your code follows the coding style as defined here.\n",
    "\n",
    "1. Comments on functions. (1 pts)\n",
    "2. Additional comments on parts of code that maybe difficult to understand (1 pts)\n",
    "3. Remove any commented code i.e. your solution should only include the code required by the assignment. All experiemental code needs to removed on the submitted file. (1 pts)\n",
    "4. Code Readibility (if part of your code is long, use multiple lines) (2 pts)\n",
    "\n",
    "    \n"
   ]
  },
  {
   "cell_type": "markdown",
   "id": "991a3721",
   "metadata": {},
   "source": [
    "### Submission on Gradescope\n",
    "\n",
    "Submit a pdf of this notebook, and the actual notebook. \n",
    "\n",
    "For pdf : In your browser open print, and save as pdf. Name the pdf LastNameFirstName.pdf\n",
    "example: DoeJohn.pdf\n",
    "\n",
    "Name this jupyter notebook with the same format LastNameFirstName.ipynb\n",
    "\n",
    "\n",
    "All outputs need to be visible. We need all 2 files to assign grades. \n",
    "\n",
    "Drop all the files in gradescope under PSET-7\n",
    "\n"
   ]
  },
  {
   "cell_type": "code",
   "execution_count": null,
   "id": "18ba803e",
   "metadata": {},
   "outputs": [],
   "source": []
  }
 ],
 "metadata": {
  "kernelspec": {
   "display_name": "Python 3 (ipykernel)",
   "language": "python",
   "name": "python3"
  },
  "language_info": {
   "codemirror_mode": {
    "name": "ipython",
    "version": 3
   },
   "file_extension": ".py",
   "mimetype": "text/x-python",
   "name": "python",
   "nbconvert_exporter": "python",
   "pygments_lexer": "ipython3",
   "version": "3.9.12"
  }
 },
 "nbformat": 4,
 "nbformat_minor": 5
}
