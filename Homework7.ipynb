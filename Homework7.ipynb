{
 "cells": [
  {
   "cell_type": "markdown",
   "metadata": {},
   "source": [
    "# Homework 7\n",
    "## Fill in your name"
   ]
  },
  {
   "cell_type": "code",
   "execution_count": 99,
   "metadata": {},
   "outputs": [],
   "source": [
    "first_name = \"Erin\"\n",
    "last_name = \"Lopez\"\n",
    "\n",
    "assert(len(first_name) != 0)\n",
    "assert(len(last_name)  != 0)"
   ]
  },
  {
   "cell_type": "markdown",
   "metadata": {},
   "source": [
    "# Problem 1: List of Squares\n",
    "\n",
    "The List Comprehension below takes an integer N and returns the squares of the first N integers.  \n",
    "\n",
    "Rewrite the function without using List Comprehensions\n",
    "\n",
    "```python\n",
    "    def squares(N):\n",
    "        return [i * i for i in range(N+1)]\n",
    "```"
   ]
  },
  {
   "cell_type": "code",
   "execution_count": 100,
   "metadata": {},
   "outputs": [],
   "source": [
    "# Takes an integer and returns a list of the squares up to N*N\n",
    "# squares(4) would return [0, 1, 4, 9, 16]\n",
    "def squares(N):\n",
    "    lst = []\n",
    "    for i in range(N+1):\n",
    "        lst.append(i*i)\n",
    "    return lst"
   ]
  },
  {
   "cell_type": "markdown",
   "metadata": {},
   "source": [
    "### Unit Tests for Squares"
   ]
  },
  {
   "cell_type": "code",
   "execution_count": 101,
   "metadata": {},
   "outputs": [
    {
     "data": {
      "text/plain": [
       "'Success'"
      ]
     },
     "execution_count": 101,
     "metadata": {},
     "output_type": "execute_result"
    }
   ],
   "source": [
    "def test_squares():\n",
    "    assert(squares(1) == [0, 1])\n",
    "    assert(squares(4) == [0, 1, 4, 9, 16])\n",
    "    assert(squares(9) == [0, 1, 4, 9, 16, 25, 36, 49, 64, 81])\n",
    "    \n",
    "    return 'Success'\n",
    "\n",
    "test_squares()"
   ]
  },
  {
   "cell_type": "markdown",
   "metadata": {},
   "source": [
    "## Problem 2: Whozit\n",
    "\n",
    "The List Comprehension below takes an integer and returns a list.\n",
    "\n",
    "Rewrite Whozit without using a List Comprehension\n",
    "\n",
    "```python\n",
    "    def whozit(n):\n",
    "        return [i for i in range(n) if '3' in str(i)]\n",
    "```"
   ]
  },
  {
   "cell_type": "code",
   "execution_count": 102,
   "metadata": {},
   "outputs": [],
   "source": [
    "def whozit(n):\n",
    "    lst = []\n",
    "    for i in range(n):\n",
    "        if '3' in str(i):\n",
    "            lst.append(i)\n",
    "    return lst"
   ]
  },
  {
   "cell_type": "markdown",
   "metadata": {},
   "source": [
    "### Unit tests for Whozit"
   ]
  },
  {
   "cell_type": "code",
   "execution_count": 103,
   "metadata": {},
   "outputs": [
    {
     "name": "stdout",
     "output_type": "stream",
     "text": [
      "Success\n"
     ]
    }
   ],
   "source": [
    "def test_whozit():\n",
    "    assert whozit(20) == [3, 13]\n",
    "    assert whozit(30) == [3, 13, 23]\n",
    "    assert whozit(40) == [3, 13, 23, 30, 31, 32, 33, 34, 35, 36, 37, 38, 39]\n",
    "\n",
    "    print(\"Success\")\n",
    "    \n",
    "test_whozit()"
   ]
  },
  {
   "cell_type": "markdown",
   "metadata": {},
   "source": [
    "## Problem 3: Loop Garou\n",
    "\n",
    "Rewrite loop_garou as a List Comprehension, and describe what it does\n",
    "\n",
    "```python\n",
    "    def loop_garou(s):\n",
    "        res = []\n",
    "        for ch in s:\n",
    "            if ch in 'aeiou':\n",
    "                res.append(ch)\n",
    "        return '-'.join(res)\n",
    "```"
   ]
  },
  {
   "cell_type": "code",
   "execution_count": 104,
   "metadata": {},
   "outputs": [],
   "source": [
    "def loop_garou(s):\n",
    "    return '-'.join([ch for ch in s if ch in 'aeiou']) #filters for all the vowels in a string and puts a dash between each \n"
   ]
  },
  {
   "cell_type": "markdown",
   "metadata": {},
   "source": [
    "### Unit tests for Loop Garou"
   ]
  },
  {
   "cell_type": "code",
   "execution_count": 105,
   "metadata": {},
   "outputs": [
    {
     "name": "stdout",
     "output_type": "stream",
     "text": [
      "Success\n"
     ]
    }
   ],
   "source": [
    "def test_loop_garou():\n",
    "    assert loop_garou('We are his sisters') == 'e-a-e-i-i-e'\n",
    "    assert loop_garou('his cousins and his aunts') == 'i-o-u-i-a-i-a-u'\n",
    "    \n",
    "    print('Success')\n",
    "    \n",
    "test_loop_garou()"
   ]
  },
  {
   "cell_type": "markdown",
   "metadata": {},
   "source": [
    "## Problem 4: Intersection\n",
    "\n",
    "Use List Comprehension to write a function common that takes two lists, and return a list of the items that appear in both lists, in the order they appear in the first list.\n",
    "\n",
    "Given [1, 3, 2, 5, 6, 0, 7] and [7, 4, 3, 2, 1], you should return [1, 3, 2, 7]"
   ]
  },
  {
   "cell_type": "code",
   "execution_count": 106,
   "metadata": {},
   "outputs": [],
   "source": [
    "def intersection(lst1, lst2):\n",
    "    return [n for n in lst1 if n in lst2]\n"
   ]
  },
  {
   "cell_type": "markdown",
   "metadata": {},
   "source": [
    "## Unit Tests for Intersection"
   ]
  },
  {
   "cell_type": "code",
   "execution_count": 107,
   "metadata": {},
   "outputs": [
    {
     "name": "stdout",
     "output_type": "stream",
     "text": [
      "Success\n"
     ]
    }
   ],
   "source": [
    "def test_intersection():\n",
    "    assert intersection([1, 3, 2, 5, 6, 0, 7], [7, 4, 3, 2, 1]) == [1, 3, 2, 7]\n",
    "    assert intersection([1, 2, 3, 4, 5], [7, 5, 3, 1]) == [1, 3, 5]\n",
    "    assert intersection([7, 5, 3, 1], [1, 2, 3, 4, 5]) == [5, 3, 1]\n",
    "    assert intersection([7, 5, 3, 1], []) == []\n",
    "    assert intersection([], [1, 2, 3, 4, 5]) == []\n",
    "    assert intersection([3*i for i in range(7)], [2*i for i in range(10)]) == [0, 6, 12, 18]\n",
    "      \n",
    "    print('Success')\n",
    "    \n",
    "test_intersection()"
   ]
  },
  {
   "cell_type": "markdown",
   "metadata": {},
   "source": [
    "## Problem 5: How much space are my pictures taking?\n",
    "\n",
    "Write a function that takes a directory and returns the combined size, in bytes, of all the .jpg files below the directory\n",
    "\n",
    "You may be storing more files in a different format: you can look for those files instead.\n",
    "\n",
    "Hint: This is a filter, followed by a map, followed by a reduce to combine the file sizes into a total.  You don't need to treat it that way: you can just keep track of the running total.  \n",
    "\n",
    "    def allocation(dir: str) -> int:"
   ]
  },
  {
   "cell_type": "code",
   "execution_count": 108,
   "metadata": {},
   "outputs": [],
   "source": [
    "def allocation(dir: str) -> int:\n",
    "    import os\n",
    "    files = os.listdir(dir)\n",
    "    totalSize = 0\n",
    "    for f in files:\n",
    "        if '.pdf' in f: #changed to .pdf bc i don't have any .jpg\n",
    "            size = os.path.getsize('../'+f) #gets size of each pdf file and adds to total\n",
    "            totalSize += size\n",
    "    return totalSize\n",
    "\n"
   ]
  },
  {
   "cell_type": "markdown",
   "metadata": {},
   "source": [
    "### Try your function out\n",
    "\n",
    "You may need to change the directory to find some images"
   ]
  },
  {
   "cell_type": "code",
   "execution_count": 109,
   "metadata": {},
   "outputs": [
    {
     "name": "stdout",
     "output_type": "stream",
     "text": [
      "956727\n"
     ]
    }
   ],
   "source": [
    "## Call your function\n",
    "\n",
    "print(allocation('..'))"
   ]
  },
  {
   "cell_type": "markdown",
   "metadata": {},
   "source": [
    "## Problem 6: Austin City Limits\n",
    "\n",
    "We will provide a CSV files listing several years worth of shows at Austin City Limits, a concert venue that has spawned a TV show.  \n",
    "\n",
    "Each concert has a number of attributes, including a Genre.  Bubble Gum and and Smooth Jazz are poorly represented, but there are a number of other Genres.  Find the frequency of each Genre, and list them in order. "
   ]
  },
  {
   "cell_type": "code",
   "execution_count": 110,
   "metadata": {},
   "outputs": [
    {
     "data": {
      "text/plain": [
       "[['Rock/Folk/Indie', 68],\n",
       " ['Country', 18],\n",
       " ['Singer-Songwriter', 17],\n",
       " ['Jazz/Blues', 13]]"
      ]
     },
     "execution_count": 110,
     "metadata": {},
     "output_type": "execute_result"
    }
   ],
   "source": [
    "def genre_freq(filename):\n",
    "   \n",
    "    file = open(filename, 'r')\n",
    "    \n",
    "    d = {}\n",
    "    \n",
    "    for row in file: #filter genre and add count to dict\n",
    "        row = row.split(',')\n",
    "        genre = row[8]\n",
    "        \n",
    "        if genre in 'Genre': #skip header\n",
    "            pass\n",
    "        elif genre not in d:\n",
    "            d[genre] = 1\n",
    "        else:\n",
    "            d[genre] += 1\n",
    "    \n",
    "    return [[g, d[g]] for g in sorted(d, key=d.get, reverse=True)]\n",
    "\n",
    "genre_freq('AustinCityLimits.csv')"
   ]
  },
  {
   "cell_type": "markdown",
   "metadata": {},
   "source": [
    "# Post Mortem"
   ]
  },
  {
   "cell_type": "markdown",
   "metadata": {},
   "source": [
    "How long did it take you to solve this problem set?\n",
    "\n",
    "Did anything confuse you or cause difficulty?"
   ]
  },
  {
   "cell_type": "code",
   "execution_count": null,
   "metadata": {},
   "outputs": [],
   "source": [
    "# Enter your thoughts\n",
    "#This one took less time and I was able to use things I learned from the last assignment"
   ]
  }
 ],
 "metadata": {
  "kernelspec": {
   "display_name": "Python 3",
   "language": "python",
   "name": "python3"
  },
  "language_info": {
   "codemirror_mode": {
    "name": "ipython",
    "version": 3
   },
   "file_extension": ".py",
   "mimetype": "text/x-python",
   "name": "python",
   "nbconvert_exporter": "python",
   "pygments_lexer": "ipython3",
   "version": "3.8.8"
  }
 },
 "nbformat": 4,
 "nbformat_minor": 1
}
