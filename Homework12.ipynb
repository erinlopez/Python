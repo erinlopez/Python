{
 "cells": [
  {
   "cell_type": "markdown",
   "metadata": {},
   "source": [
    "# Homework 12\n",
    "\n",
    "## Due Nov 28th, 4PM EST, 2021"
   ]
  },
  {
   "cell_type": "markdown",
   "metadata": {},
   "source": [
    "## Fill in your name"
   ]
  },
  {
   "cell_type": "code",
   "execution_count": 188,
   "metadata": {},
   "outputs": [],
   "source": [
    "first_name = \"Erin\"\n",
    "last_name = \"Lopez\"\n",
    "\n",
    "assert(len(first_name) != 0)\n",
    "assert(len(last_name)  != 0)"
   ]
  },
  {
   "cell_type": "markdown",
   "metadata": {},
   "source": [
    "# 1) WiFi in Boston\n",
    "\n",
    "The file wifi.csv lists municipal wifi networks in Boston.  Plot the location of the networks listed using Latitude and Longitude."
   ]
  },
  {
   "cell_type": "code",
   "execution_count": 189,
   "metadata": {},
   "outputs": [
    {
     "data": {
      "image/png": "[encoded data removed]",
      "text/plain": [
       "<Figure size 432x288 with 1 Axes>"
      ]
     },
     "metadata": {
      "needs_background": "light"
     },
     "output_type": "display_data"
    }
   ],
   "source": [
    "def plot_results(path):\n",
    "    \"\"\"Provide 2D map of locations\"\"\"\n",
    "    import csv\n",
    "    import matplotlib.pyplot as plt\n",
    "    \n",
    "    with open(path) as file:\n",
    "        networks = csv.DictReader(file)\n",
    "        longitude = []\n",
    "        latitude = []\n",
    "        for row in networks:\n",
    "            longitude.append(float(row['longitude'])) #change from str to float to plot numbers\n",
    "            latitude.append(float(row['latitude']))\n",
    "   \n",
    "    #scatterplot: Latitude y, Longitude x\n",
    "    plt.scatter(longitude, latitude)\n",
    "\n",
    "    plt.xlabel('Longitude')\n",
    "    plt.ylabel('Latitude')\n",
    "    plt.title('Boston Municipal Wifi Network Locations')\n",
    "    \n",
    "     \n",
    "plot_results('wifi.csv')"
   ]
  },
  {
   "cell_type": "markdown",
   "metadata": {},
   "source": [
    "# 2) Which towns have the most Wifi?\n",
    "\n",
    "Create a horizontal bar chart showing the number of Wifi networks listed for each town listed.\n",
    "\n",
    "List the towns as 'Dorchester', rather than 'Dorchester, MA'.\n",
    "\n",
    "The address field may need grooming. "
   ]
  },
  {
   "cell_type": "code",
   "execution_count": 190,
   "metadata": {},
   "outputs": [
    {
     "data": {
      "image/png": "[encoded data removed]",
      "text/plain": [
       "<Figure size 432x288 with 1 Axes>"
      ]
     },
     "metadata": {
      "needs_background": "light"
     },
     "output_type": "display_data"
    }
   ],
   "source": [
    "def plot_histogram(path):\n",
    "    \"\"\"Plot histograms showing WiFi networks per town\"\"\"\n",
    "    import csv\n",
    "    import matplotlib.pyplot as plt\n",
    "    \n",
    "    lst = []\n",
    "    with open(path) as file:\n",
    "        networks = csv.DictReader(file)\n",
    "        for row in networks:\n",
    "            address = row['Address']\n",
    "            city = address.split(',')\n",
    "            city = city[1].replace('  ', ' ').replace('MA', '').title().strip() #normalize city names\n",
    "            lst.append(city)\n",
    "          \n",
    "    freq = {} #dictionary of city frequencies\n",
    "    for c in lst:\n",
    "        if c in freq:\n",
    "            freq[c] += 1\n",
    "        else:\n",
    "            freq[c] = 1\n",
    "    \n",
    "    keys = []\n",
    "    values = []\n",
    "    for k in freq: #dictionary into lists for bar chart\n",
    "        keys.append(k)\n",
    "        values.append(freq[k])\n",
    "    \n",
    "    plt.barh(keys, values)\n",
    "    plt.title('Wifi Networks Per Town')\n",
    "    plt.xlabel('# of Wifi Networks')\n",
    "    \n",
    "    \n",
    "    \n",
    "plot_histogram('wifi.csv')"
   ]
  },
  {
   "cell_type": "markdown",
   "metadata": {},
   "source": [
    "# 3) Sorting Employees\n",
    "\n",
    "We wish to take an unordered list of Employees, and get a list sorted by Company and Id.\n",
    "\n",
    "Everyone who works at 'Springfield Department of Motor Vehicles' should be in one group. \n",
    "Everyone who works at 'Springfield Nuclear Power' would be in another group, later in the list, \n",
    "and everyone who works from the Mafia would be in a group earlier in the list. \n",
    "Within each group, we want to see the low ID numbers before this high ones.\n",
    "\n",
    "For this problem, we do not want you to write a sorting program. You will use Python's sort.   \n",
    "You need to define the magic method dunder lt() for the class Employee. \n",
    "Once that is done, calling Python's sorted() on a list of Employees will return a sorted list.\n",
    "\n",
    "### Add to the cell below.  "
   ]
  },
  {
   "cell_type": "code",
   "execution_count": 191,
   "metadata": {},
   "outputs": [],
   "source": [
    "class Person:\n",
    "\n",
    "    def __init__(self, first, last):\n",
    "        self.firstname = first.capitalize()\n",
    "        self.lastname = last.capitalize()\n",
    "\n",
    "    def __str__(self):\n",
    "        return self.firstname + \" \" + self.lastname\n",
    "\n",
    "\n",
    "class Employee(Person):\n",
    "\n",
    "    def __init__(self, first, last, company, id):\n",
    "        # Call Superclass to set common information\n",
    "        super().__init__(first, last)\n",
    "        self.id = id\n",
    "        self.company = company\n",
    "\n",
    "    def __str__(self):\n",
    "        # Call Superclass to display common information\n",
    "        return super().__str__() + \", \" + str(self.id) + ' at ' + self.company\n",
    "    \n",
    "    def __lt__(self, other):\n",
    "        #determine what order\n",
    "        #companies in order then id in order\n",
    "        return (self.company, self.id) < (other.company, other.id)\n",
    "        \n",
    "       \n",
    "        "
   ]
  },
  {
   "cell_type": "markdown",
   "metadata": {},
   "source": [
    "## Unit Test"
   ]
  },
  {
   "cell_type": "code",
   "execution_count": 192,
   "metadata": {},
   "outputs": [
    {
     "name": "stdout",
     "output_type": "stream",
     "text": [
      "Homer Simpson, 1005 at Springfield Nuclear Power\n",
      "Barney Gumble, 1 at Plow King\n",
      "Clancy Wiggum, 1 at Police Department\n",
      "Edna Krabapple, 39 at Springfield Elementary School\n",
      "Seymour Skinner, 1 at Springfield Elementary School\n",
      "Charles Burns, 1 at Springfield Nuclear Power\n",
      "Waylon Smithers, 2 at Springfield Nuclear Power\n",
      "Patty Bouvier, 39 at Springfield Department of Motor Vehicles\n",
      "Selma Bouvier, 38 at Springfield Department of Motor Vehicles\n",
      "Robert Terwilliger, 31 at Channel 6\n",
      "Herschel Krustofsky, 2 at Channel 6\n",
      "Lois Pennycandy, 46 at Channel 6\n",
      "Johnny Cevasco, 2 at Mafia\n",
      "Fat Tony, 1 at Mafia\n",
      "Max Legman, 3 at Mafia\n",
      "Louie Walters, 4 at Mafia\n",
      "==========================\n",
      "Herschel Krustofsky, 2 at Channel 6\n",
      "Robert Terwilliger, 31 at Channel 6\n",
      "Lois Pennycandy, 46 at Channel 6\n",
      "Fat Tony, 1 at Mafia\n",
      "Johnny Cevasco, 2 at Mafia\n",
      "Max Legman, 3 at Mafia\n",
      "Louie Walters, 4 at Mafia\n",
      "Barney Gumble, 1 at Plow King\n",
      "Clancy Wiggum, 1 at Police Department\n",
      "Selma Bouvier, 38 at Springfield Department of Motor Vehicles\n",
      "Patty Bouvier, 39 at Springfield Department of Motor Vehicles\n",
      "Seymour Skinner, 1 at Springfield Elementary School\n",
      "Edna Krabapple, 39 at Springfield Elementary School\n",
      "Charles Burns, 1 at Springfield Nuclear Power\n",
      "Waylon Smithers, 2 at Springfield Nuclear Power\n",
      "Homer Simpson, 1005 at Springfield Nuclear Power\n",
      "Success!\n"
     ]
    }
   ],
   "source": [
    "lst = [\n",
    "    Employee('Homer', 'Simpson', 'Springfield Nuclear Power', 1005),\n",
    "    Employee('Barney', 'Gumble', 'Plow King', 1),\n",
    "    Employee('Clancy', 'Wiggum', 'Police Department', 1),\n",
    "    Employee('Edna', 'Krabapple', 'Springfield Elementary School', 39),\n",
    "    Employee('Seymour', 'Skinner', 'Springfield Elementary School', 1),\n",
    "    Employee('Charles', 'Burns', 'Springfield Nuclear Power', 1),\n",
    "    Employee('Waylon', 'Smithers', 'Springfield Nuclear Power', 2),\n",
    "    Employee('Patty', 'Bouvier', 'Springfield Department of Motor Vehicles', 39),\n",
    "    Employee('Selma', 'Bouvier', 'Springfield Department of Motor Vehicles', 38),\n",
    "    Employee('Robert', 'Terwilliger', 'Channel 6', 31),\n",
    "    Employee('Herschel', 'Krustofsky', 'Channel 6', 2),\n",
    "    Employee('Lois', 'Pennycandy', 'Channel 6', 46),\n",
    "    Employee('Johnny', 'Cevasco', 'Mafia', 2),\n",
    "    Employee('Fat', 'Tony', 'Mafia', 1),\n",
    "    Employee('Max', 'Legman', 'Mafia', 3 ),\n",
    "    Employee('Louie', 'Walters', 'Mafia', 4)\n",
    "    ]\n",
    "\n",
    "for emp in lst:\n",
    "    print(emp)\n",
    "    \n",
    "print('==========================')\n",
    "\n",
    "# Sort the people\n",
    "lst = sorted(lst)\n",
    "\n",
    "# Check that the list is sorted\n",
    "for first, second in zip(lst[:-1], lst[1:]):\n",
    "    assert (first.company, first.id) < (second.company, second.id)\n",
    "\n",
    "for emp in lst:\n",
    "    print(emp)\n",
    "    \n",
    "print(\"Success!\")"
   ]
  },
  {
   "cell_type": "markdown",
   "metadata": {},
   "source": [
    "# 4) Phone Numbers\n",
    "\n",
    "The \"North American Numbering Plan\" (NANP) is a telephone numbering system used by many countries in North America. All NANP-countries share the same international country code: `1`.\n",
    "\n",
    "You are to create a class that takes a string and returns an object holding a valid NANP phone number.  \n",
    "\n",
    "NANP numbers are ten-digit numbers consisting of a three-digit area code and a seven-digit local number. The first three digits of the local number are the \"exchange code\", and the four-digit number which follows is the \"subscriber number\".\n",
    "\n",
    "The format is usually represented as (NXX)-NXX-XXXX where `N` is any digit from 2 through 9 and `X` is any digit from 0 through 9.\n",
    "\n",
    "Your task is to clean up differently formatted telephone numbers by removing punctuation and the country code (1) if present.  \n",
    "\n",
    "For example, the strings below \n",
    "\n",
    "```python\n",
    "    +1 (617) 495-4024\n",
    "\n",
    "    617-495-4024\n",
    "\n",
    "    1 617 495 4024\n",
    "\n",
    "    617.495.4024\n",
    "```\n",
    "\n",
    "should all produce an object that is printed as (617) 495-4024\n",
    "\n",
    "## ValueErrors\n",
    "\n",
    "If you are asked to create a phone number that does not meet the pattern above, you should throw a ValueError with a string explaining the problem.  We run through 5 different problems below: each should generate a different error message.    \n",
    "\n",
    "For example, for the third string below, you might say:\n",
    "\n",
    "```python\n",
    "     raise ValueError(f'Invalid Country Code: {code}')\n",
    "```\n",
    "\n",
    "### Here are the 5 errors should be able to catch\n",
    "\n",
    "```python\n",
    "    +1 (617) 495-40247 has too many digits\n",
    "\n",
    "    (617) 495-402 has too few digits\n",
    "\n",
    "    +2 (617) 495-4024 has the wrong country code, 2\n",
    "\n",
    "    (017) 495-4024 has an illegal area code, 017\n",
    "\n",
    "    (617) 195-4024 has an illegal exchange code, 195\n",
    "```"
   ]
  },
  {
   "cell_type": "code",
   "execution_count": 193,
   "metadata": {},
   "outputs": [],
   "source": [
    "import re\n",
    "\n",
    "class Phone(object):\n",
    "    \"\"\"A NANP phone number\"\"\"\n",
    "\n",
    "    def __init__(self, phone_number: str):\n",
    "        self.phone_number = phone_number\n",
    "        \n",
    "        #create string of only digits\n",
    "        numbers_only = re.sub('[^0-9]', '', self.phone_number)\n",
    "        \n",
    "        #remove country code\n",
    "        if len(numbers_only) == 11:\n",
    "            if numbers_only[0] == '1': \n",
    "                numbers_only = numbers_only[1:]\n",
    "            else:\n",
    "                raise ValueError(f'Wrong country code: +{numbers_only[0]}') #!country code\n",
    "       \n",
    "        #(NXX)-NXX-XXXX where N is any digit from 2 through 9\n",
    "        if len(numbers_only) == 10:\n",
    "            if numbers_only[0] != '0' and numbers_only[0] != '1':\n",
    "                if numbers_only[3] != '0' and numbers_only[3] != '1':\n",
    "                    self.numbers_only = numbers_only #valid number\n",
    "                else:\n",
    "                    raise ValueError(f'Invalid exchange code: {numbers_only[3:6]}') #!exchange code\n",
    "            else:\n",
    "                raise ValueError(f'Invalid area code: {numbers_only[:3]}') #!area code\n",
    "                \n",
    "        elif len(numbers_only) > 10:\n",
    "            raise ValueError('Invalid number. Too many digits.') #!too many digits\n",
    "            \n",
    "        else:\n",
    "            raise ValueError('Invalid number. Not enough digits.') #not enough digits\n",
    "            \n",
    "    def __str__(self) -> str:\n",
    "        \"\"\"Return a formated string with the phone number\"\"\"\n",
    "        return (f'({self.numbers_only[:3]}) {self.numbers_only[3:6]}-{self.numbers_only[6:10]}') #return formatted number\n",
    "        \n",
    "\n",
    "        \n",
    "        "
   ]
  },
  {
   "cell_type": "markdown",
   "metadata": {},
   "source": [
    "## Unit Tests"
   ]
  },
  {
   "cell_type": "code",
   "execution_count": 194,
   "metadata": {},
   "outputs": [
    {
     "name": "stdout",
     "output_type": "stream",
     "text": [
      "Success!\n"
     ]
    }
   ],
   "source": [
    "def test_phone_numbers():\n",
    "    number = Phone(\"(223) 456-7890\")\n",
    "    assert number.__str__() == \"(223) 456-7890\"\n",
    "\n",
    "    # Valid NANP Phone numbers\n",
    "    assert Phone(\"+1 (617) 495-4024\").__str__() == \"(617) 495-4024\"\n",
    "    assert Phone(\"617-495-4024\").__str__() == \"(617) 495-4024\"\n",
    "    assert Phone(\"1 617 495 4024\").__str__() == \"(617) 495-4024\"\n",
    "    assert Phone(\"617.495.4024\").__str__() == \"(617) 495-4024\"\n",
    "    assert Phone(\"6174954024\").__str__() == \"(617) 495-4024\"\n",
    "\n",
    "    print('Success!')\n",
    "\n",
    "test_phone_numbers()"
   ]
  },
  {
   "cell_type": "markdown",
   "metadata": {},
   "source": [
    "## Unit Tests of your Exceptions"
   ]
  },
  {
   "cell_type": "code",
   "execution_count": 195,
   "metadata": {},
   "outputs": [
    {
     "name": "stdout",
     "output_type": "stream",
     "text": [
      "Success!\n"
     ]
    }
   ],
   "source": [
    "def test_phone_errors():\n",
    "\n",
    "    # Illegal NANP numbers: You should raise a ValueError Exception\n",
    "    try:\n",
    "        number = Phone(\"+1 (617) 495-40247\")\n",
    "        assert(1 == 0)    # Should not get here\n",
    "    except ValueError:\n",
    "        pass\n",
    "\n",
    "    try:\n",
    "        number = Phone(\"(617) 495-402\")\n",
    "        assert(1 == 0)    # Should not get here\n",
    "    except ValueError:\n",
    "        pass\n",
    "\n",
    "    try:\n",
    "        number = Phone(\"+2 (617) 495-4024\")\n",
    "        assert(1 == 0)    # Should not get here\n",
    "    except ValueError:\n",
    "        pass\n",
    "\n",
    "    try:\n",
    "        number = Phone(\"(017) 495-4024\")\n",
    "        assert(1 == 0)    # Should not get here\n",
    "    except ValueError:\n",
    "        pass\n",
    "\n",
    "    try:\n",
    "        number = Phone(\"(617) 195-4024\")\n",
    "        assert(1 == 0)    # Should not get here\n",
    "    except ValueError:\n",
    "        pass\n",
    "\n",
    "    print(\"Success!\")\n",
    "\n",
    "test_phone_errors()"
   ]
  },
  {
   "cell_type": "markdown",
   "metadata": {},
   "source": [
    "## Show us your exception messages\n",
    "There should be different messages for each different error"
   ]
  },
  {
   "cell_type": "code",
   "execution_count": 196,
   "metadata": {},
   "outputs": [
    {
     "ename": "ValueError",
     "evalue": "Invalid number. Too many digits.",
     "output_type": "error",
     "traceback": [
      "\u001b[0;31m---------------------------------------------------------------------------\u001b[0m",
      "\u001b[0;31mValueError\u001b[0m                                Traceback (most recent call last)",
      "\u001b[0;32m<ipython-input-196-acc83d59cd11>\u001b[0m in \u001b[0;36m<module>\u001b[0;34m\u001b[0m\n\u001b[0;32m----> 1\u001b[0;31m \u001b[0mnumber\u001b[0m \u001b[0;34m=\u001b[0m \u001b[0mPhone\u001b[0m\u001b[0;34m(\u001b[0m\u001b[0;34m\"+1 (617) 495-40247\"\u001b[0m\u001b[0;34m)\u001b[0m\u001b[0;34m\u001b[0m\u001b[0;34m\u001b[0m\u001b[0m\n\u001b[0m",
      "\u001b[0;32m<ipython-input-193-4cccaf351e1f>\u001b[0m in \u001b[0;36m__init__\u001b[0;34m(self, phone_number)\u001b[0m\n\u001b[1;32m     28\u001b[0m \u001b[0;34m\u001b[0m\u001b[0m\n\u001b[1;32m     29\u001b[0m         \u001b[0;32melif\u001b[0m \u001b[0mlen\u001b[0m\u001b[0;34m(\u001b[0m\u001b[0mnumbers_only\u001b[0m\u001b[0;34m)\u001b[0m \u001b[0;34m>\u001b[0m \u001b[0;36m10\u001b[0m\u001b[0;34m:\u001b[0m\u001b[0;34m\u001b[0m\u001b[0;34m\u001b[0m\u001b[0m\n\u001b[0;32m---> 30\u001b[0;31m             \u001b[0;32mraise\u001b[0m \u001b[0mValueError\u001b[0m\u001b[0;34m(\u001b[0m\u001b[0;34m'Invalid number. Too many digits.'\u001b[0m\u001b[0;34m)\u001b[0m \u001b[0;31m#!too many digits\u001b[0m\u001b[0;34m\u001b[0m\u001b[0;34m\u001b[0m\u001b[0m\n\u001b[0m\u001b[1;32m     31\u001b[0m \u001b[0;34m\u001b[0m\u001b[0m\n\u001b[1;32m     32\u001b[0m         \u001b[0;32melse\u001b[0m\u001b[0;34m:\u001b[0m\u001b[0;34m\u001b[0m\u001b[0;34m\u001b[0m\u001b[0m\n",
      "\u001b[0;31mValueError\u001b[0m: Invalid number. Too many digits."
     ]
    }
   ],
   "source": [
    "number = Phone(\"+1 (617) 495-40247\")"
   ]
  },
  {
   "cell_type": "code",
   "execution_count": 197,
   "metadata": {},
   "outputs": [
    {
     "ename": "ValueError",
     "evalue": "Invalid number. Not enough digits.",
     "output_type": "error",
     "traceback": [
      "\u001b[0;31m---------------------------------------------------------------------------\u001b[0m",
      "\u001b[0;31mValueError\u001b[0m                                Traceback (most recent call last)",
      "\u001b[0;32m<ipython-input-197-36d3296b149e>\u001b[0m in \u001b[0;36m<module>\u001b[0;34m\u001b[0m\n\u001b[0;32m----> 1\u001b[0;31m \u001b[0mnumber\u001b[0m \u001b[0;34m=\u001b[0m \u001b[0mPhone\u001b[0m\u001b[0;34m(\u001b[0m\u001b[0;34m\"(617) 495-402\"\u001b[0m\u001b[0;34m)\u001b[0m\u001b[0;34m\u001b[0m\u001b[0;34m\u001b[0m\u001b[0m\n\u001b[0m",
      "\u001b[0;32m<ipython-input-193-4cccaf351e1f>\u001b[0m in \u001b[0;36m__init__\u001b[0;34m(self, phone_number)\u001b[0m\n\u001b[1;32m     31\u001b[0m \u001b[0;34m\u001b[0m\u001b[0m\n\u001b[1;32m     32\u001b[0m         \u001b[0;32melse\u001b[0m\u001b[0;34m:\u001b[0m\u001b[0;34m\u001b[0m\u001b[0;34m\u001b[0m\u001b[0m\n\u001b[0;32m---> 33\u001b[0;31m             \u001b[0;32mraise\u001b[0m \u001b[0mValueError\u001b[0m\u001b[0;34m(\u001b[0m\u001b[0;34m'Invalid number. Not enough digits.'\u001b[0m\u001b[0;34m)\u001b[0m \u001b[0;31m#not enough digits\u001b[0m\u001b[0;34m\u001b[0m\u001b[0;34m\u001b[0m\u001b[0m\n\u001b[0m\u001b[1;32m     34\u001b[0m \u001b[0;34m\u001b[0m\u001b[0m\n\u001b[1;32m     35\u001b[0m     \u001b[0;32mdef\u001b[0m \u001b[0m__str__\u001b[0m\u001b[0;34m(\u001b[0m\u001b[0mself\u001b[0m\u001b[0;34m)\u001b[0m \u001b[0;34m->\u001b[0m \u001b[0mstr\u001b[0m\u001b[0;34m:\u001b[0m\u001b[0;34m\u001b[0m\u001b[0;34m\u001b[0m\u001b[0m\n",
      "\u001b[0;31mValueError\u001b[0m: Invalid number. Not enough digits."
     ]
    }
   ],
   "source": [
    "number = Phone(\"(617) 495-402\")"
   ]
  },
  {
   "cell_type": "code",
   "execution_count": 198,
   "metadata": {},
   "outputs": [
    {
     "ename": "ValueError",
     "evalue": "Wrong country code: +2",
     "output_type": "error",
     "traceback": [
      "\u001b[0;31m---------------------------------------------------------------------------\u001b[0m",
      "\u001b[0;31mValueError\u001b[0m                                Traceback (most recent call last)",
      "\u001b[0;32m<ipython-input-198-9179279ab125>\u001b[0m in \u001b[0;36m<module>\u001b[0;34m\u001b[0m\n\u001b[0;32m----> 1\u001b[0;31m \u001b[0mnumber\u001b[0m \u001b[0;34m=\u001b[0m \u001b[0mPhone\u001b[0m\u001b[0;34m(\u001b[0m\u001b[0;34m\"+2 (617) 495-4024\"\u001b[0m\u001b[0;34m)\u001b[0m\u001b[0;34m\u001b[0m\u001b[0;34m\u001b[0m\u001b[0m\n\u001b[0m",
      "\u001b[0;32m<ipython-input-193-4cccaf351e1f>\u001b[0m in \u001b[0;36m__init__\u001b[0;34m(self, phone_number)\u001b[0m\n\u001b[1;32m     15\u001b[0m                 \u001b[0mnumbers_only\u001b[0m \u001b[0;34m=\u001b[0m \u001b[0mnumbers_only\u001b[0m\u001b[0;34m[\u001b[0m\u001b[0;36m1\u001b[0m\u001b[0;34m:\u001b[0m\u001b[0;34m]\u001b[0m\u001b[0;34m\u001b[0m\u001b[0;34m\u001b[0m\u001b[0m\n\u001b[1;32m     16\u001b[0m             \u001b[0;32melse\u001b[0m\u001b[0;34m:\u001b[0m\u001b[0;34m\u001b[0m\u001b[0;34m\u001b[0m\u001b[0m\n\u001b[0;32m---> 17\u001b[0;31m                 \u001b[0;32mraise\u001b[0m \u001b[0mValueError\u001b[0m\u001b[0;34m(\u001b[0m\u001b[0;34mf'Wrong country code: +{numbers_only[0]}'\u001b[0m\u001b[0;34m)\u001b[0m \u001b[0;31m#!country code\u001b[0m\u001b[0;34m\u001b[0m\u001b[0;34m\u001b[0m\u001b[0m\n\u001b[0m\u001b[1;32m     18\u001b[0m \u001b[0;34m\u001b[0m\u001b[0m\n\u001b[1;32m     19\u001b[0m         \u001b[0;31m#(NXX)-NXX-XXXX where N is any digit from 2 through 9\u001b[0m\u001b[0;34m\u001b[0m\u001b[0;34m\u001b[0m\u001b[0;34m\u001b[0m\u001b[0m\n",
      "\u001b[0;31mValueError\u001b[0m: Wrong country code: +2"
     ]
    }
   ],
   "source": [
    "number = Phone(\"+2 (617) 495-4024\")"
   ]
  },
  {
   "cell_type": "code",
   "execution_count": 199,
   "metadata": {},
   "outputs": [
    {
     "ename": "ValueError",
     "evalue": "Invalid area code: 017",
     "output_type": "error",
     "traceback": [
      "\u001b[0;31m---------------------------------------------------------------------------\u001b[0m",
      "\u001b[0;31mValueError\u001b[0m                                Traceback (most recent call last)",
      "\u001b[0;32m<ipython-input-199-b61b7b5f9c79>\u001b[0m in \u001b[0;36m<module>\u001b[0;34m\u001b[0m\n\u001b[0;32m----> 1\u001b[0;31m \u001b[0mnumber\u001b[0m \u001b[0;34m=\u001b[0m \u001b[0mPhone\u001b[0m\u001b[0;34m(\u001b[0m\u001b[0;34m\"(017) 495-4024\"\u001b[0m\u001b[0;34m)\u001b[0m\u001b[0;34m\u001b[0m\u001b[0;34m\u001b[0m\u001b[0m\n\u001b[0m",
      "\u001b[0;32m<ipython-input-193-4cccaf351e1f>\u001b[0m in \u001b[0;36m__init__\u001b[0;34m(self, phone_number)\u001b[0m\n\u001b[1;32m     25\u001b[0m                     \u001b[0;32mraise\u001b[0m \u001b[0mValueError\u001b[0m\u001b[0;34m(\u001b[0m\u001b[0;34mf'Invalid exchange code: {numbers_only[3:6]}'\u001b[0m\u001b[0;34m)\u001b[0m \u001b[0;31m#!exchange code\u001b[0m\u001b[0;34m\u001b[0m\u001b[0;34m\u001b[0m\u001b[0m\n\u001b[1;32m     26\u001b[0m             \u001b[0;32melse\u001b[0m\u001b[0;34m:\u001b[0m\u001b[0;34m\u001b[0m\u001b[0;34m\u001b[0m\u001b[0m\n\u001b[0;32m---> 27\u001b[0;31m                 \u001b[0;32mraise\u001b[0m \u001b[0mValueError\u001b[0m\u001b[0;34m(\u001b[0m\u001b[0;34mf'Invalid area code: {numbers_only[:3]}'\u001b[0m\u001b[0;34m)\u001b[0m \u001b[0;31m#!area code\u001b[0m\u001b[0;34m\u001b[0m\u001b[0;34m\u001b[0m\u001b[0m\n\u001b[0m\u001b[1;32m     28\u001b[0m \u001b[0;34m\u001b[0m\u001b[0m\n\u001b[1;32m     29\u001b[0m         \u001b[0;32melif\u001b[0m \u001b[0mlen\u001b[0m\u001b[0;34m(\u001b[0m\u001b[0mnumbers_only\u001b[0m\u001b[0;34m)\u001b[0m \u001b[0;34m>\u001b[0m \u001b[0;36m10\u001b[0m\u001b[0;34m:\u001b[0m\u001b[0;34m\u001b[0m\u001b[0;34m\u001b[0m\u001b[0m\n",
      "\u001b[0;31mValueError\u001b[0m: Invalid area code: 017"
     ]
    }
   ],
   "source": [
    "number = Phone(\"(017) 495-4024\")"
   ]
  },
  {
   "cell_type": "code",
   "execution_count": 200,
   "metadata": {},
   "outputs": [
    {
     "ename": "ValueError",
     "evalue": "Invalid exchange code: 195",
     "output_type": "error",
     "traceback": [
      "\u001b[0;31m---------------------------------------------------------------------------\u001b[0m",
      "\u001b[0;31mValueError\u001b[0m                                Traceback (most recent call last)",
      "\u001b[0;32m<ipython-input-200-e6230a15ed6a>\u001b[0m in \u001b[0;36m<module>\u001b[0;34m\u001b[0m\n\u001b[0;32m----> 1\u001b[0;31m \u001b[0mnumber\u001b[0m \u001b[0;34m=\u001b[0m \u001b[0mPhone\u001b[0m\u001b[0;34m(\u001b[0m\u001b[0;34m\"(617) 195-4024\"\u001b[0m\u001b[0;34m)\u001b[0m\u001b[0;34m\u001b[0m\u001b[0;34m\u001b[0m\u001b[0m\n\u001b[0m",
      "\u001b[0;32m<ipython-input-193-4cccaf351e1f>\u001b[0m in \u001b[0;36m__init__\u001b[0;34m(self, phone_number)\u001b[0m\n\u001b[1;32m     23\u001b[0m                     \u001b[0mself\u001b[0m\u001b[0;34m.\u001b[0m\u001b[0mnumbers_only\u001b[0m \u001b[0;34m=\u001b[0m \u001b[0mnumbers_only\u001b[0m \u001b[0;31m#valid number\u001b[0m\u001b[0;34m\u001b[0m\u001b[0;34m\u001b[0m\u001b[0m\n\u001b[1;32m     24\u001b[0m                 \u001b[0;32melse\u001b[0m\u001b[0;34m:\u001b[0m\u001b[0;34m\u001b[0m\u001b[0;34m\u001b[0m\u001b[0m\n\u001b[0;32m---> 25\u001b[0;31m                     \u001b[0;32mraise\u001b[0m \u001b[0mValueError\u001b[0m\u001b[0;34m(\u001b[0m\u001b[0;34mf'Invalid exchange code: {numbers_only[3:6]}'\u001b[0m\u001b[0;34m)\u001b[0m \u001b[0;31m#!exchange code\u001b[0m\u001b[0;34m\u001b[0m\u001b[0;34m\u001b[0m\u001b[0m\n\u001b[0m\u001b[1;32m     26\u001b[0m             \u001b[0;32melse\u001b[0m\u001b[0;34m:\u001b[0m\u001b[0;34m\u001b[0m\u001b[0;34m\u001b[0m\u001b[0m\n\u001b[1;32m     27\u001b[0m                 \u001b[0;32mraise\u001b[0m \u001b[0mValueError\u001b[0m\u001b[0;34m(\u001b[0m\u001b[0;34mf'Invalid area code: {numbers_only[:3]}'\u001b[0m\u001b[0;34m)\u001b[0m \u001b[0;31m#!area code\u001b[0m\u001b[0;34m\u001b[0m\u001b[0;34m\u001b[0m\u001b[0m\n",
      "\u001b[0;31mValueError\u001b[0m: Invalid exchange code: 195"
     ]
    }
   ],
   "source": [
    "number = Phone(\"(617) 195-4024\")"
   ]
  },
  {
   "cell_type": "markdown",
   "metadata": {},
   "source": [
    "# Post Mortem\n",
    "## How long did it take you to solve this problem set?\n",
    "## Did anything confuse you or cause difficulty?"
   ]
  },
  {
   "cell_type": "code",
   "execution_count": null,
   "metadata": {},
   "outputs": [],
   "source": [
    "# Your thoughts\n",
    "#I split the time for this problem set with one half one day and the second half another day\n",
    "#"
   ]
  }
 ],
 "metadata": {
  "kernelspec": {
   "display_name": "Python 3",
   "language": "python",
   "name": "python3"
  },
  "language_info": {
   "codemirror_mode": {
    "name": "ipython",
    "version": 3
   },
   "file_extension": ".py",
   "mimetype": "text/x-python",
   "name": "python",
   "nbconvert_exporter": "python",
   "pygments_lexer": "ipython3",
   "version": "3.8.8"
  }
 },
 "nbformat": 4,
 "nbformat_minor": 1
}
